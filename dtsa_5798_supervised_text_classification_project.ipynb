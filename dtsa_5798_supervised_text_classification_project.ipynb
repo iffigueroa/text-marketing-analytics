{
  "cells": [
    {
      "cell_type": "markdown",
      "metadata": {
        "id": "view-in-github",
        "colab_type": "text"
      },
      "source": [
        "<a href=\"https://colab.research.google.com/github/iffigueroa/text-marketing-analytics/blob/main/dtsa_5798_supervised_text_classification_project.ipynb\" target=\"_parent\"><img src=\"https://colab.research.google.com/assets/colab-badge.svg\" alt=\"Open In Colab\"/></a>"
      ]
    },
    {
      "cell_type": "markdown",
      "metadata": {
        "id": "ueePu7NrMaXq"
      },
      "source": [
        "# 5798 Project"
      ]
    },
    {
      "cell_type": "code",
      "execution_count": 1,
      "metadata": {
        "colab": {
          "base_uri": "https://localhost:8080/"
        },
        "id": "OTuePwuVMnxG",
        "outputId": "38db90b0-18e7-4d45-d704-ab90699e543e"
      },
      "outputs": [
        {
          "output_type": "stream",
          "name": "stdout",
          "text": [
            "0.41.2\n"
          ]
        }
      ],
      "source": [
        "import os\n",
        "try:\n",
        "  import ktrain\n",
        "  print(ktrain.__version__)\n",
        "except:\n",
        "  !pip install ktrain\n",
        "  os.kill(os.getpid(), 9)\n",
        "\n",
        "from ktrain import text\n",
        "from ktrain.text import texts_from_df\n",
        "import matplotlib.pyplot as plt\n",
        "import pandas as pd\n",
        "import numpy as np"
      ]
    },
    {
      "cell_type": "markdown",
      "metadata": {
        "id": "l9JuG5-4MgjH"
      },
      "source": [
        "## Load the Data"
      ]
    },
    {
      "cell_type": "code",
      "execution_count": 2,
      "metadata": {
        "colab": {
          "base_uri": "https://localhost:8080/"
        },
        "id": "ByD5xg6DMHct",
        "outputId": "08899feb-536f-49fe-9b4f-5fddc08b9a14"
      },
      "outputs": [
        {
          "output_type": "stream",
          "name": "stdout",
          "text": [
            "Mounted at /content/drive\n"
          ]
        }
      ],
      "source": [
        "from google.colab import drive\n",
        "drive.mount('/content/drive')\n",
        "\n",
        "PATH = \"/content/drive/MyDrive/MSDS_marketing_text_analytics/master_files/1_text_classification\"\n",
        "reviews = pd.read_json(f'{PATH}/news_category_trainingdata.json')"
      ]
    },
    {
      "cell_type": "markdown",
      "metadata": {
        "id": "QUR6KKWcMidP"
      },
      "source": [
        "## Exploration"
      ]
    },
    {
      "cell_type": "code",
      "execution_count": 3,
      "metadata": {
        "colab": {
          "base_uri": "https://localhost:8080/",
          "height": 289
        },
        "id": "a7hTyW9KNsxN",
        "outputId": "fc735a9e-8f41-4741-b338-1dd8b4fce03c"
      },
      "outputs": [
        {
          "output_type": "execute_result",
          "data": {
            "text/plain": [
              "        category                                           headline  \\\n",
              "0          CRIME  There Were 2 Mass Shootings In Texas Last Week...   \n",
              "1  ENTERTAINMENT  Will Smith Joins Diplo And Nicky Jam For The 2...   \n",
              "2  ENTERTAINMENT    Hugh Grant Marries For The First Time At Age 57   \n",
              "3  ENTERTAINMENT  Jim Carrey Blasts 'Castrato' Adam Schiff And D...   \n",
              "4  ENTERTAINMENT  Julianna Margulies Uses Donald Trump Poop Bags...   \n",
              "\n",
              "           authors                                               link  \\\n",
              "0  Melissa Jeltsen  https://www.huffingtonpost.com/entry/texas-ama...   \n",
              "1    Andy McDonald  https://www.huffingtonpost.com/entry/will-smit...   \n",
              "2       Ron Dicker  https://www.huffingtonpost.com/entry/hugh-gran...   \n",
              "3       Ron Dicker  https://www.huffingtonpost.com/entry/jim-carre...   \n",
              "4       Ron Dicker  https://www.huffingtonpost.com/entry/julianna-...   \n",
              "\n",
              "                                   short_description       date  \n",
              "0  She left her husband. He killed their children... 2018-05-26  \n",
              "1                           Of course it has a song. 2018-05-26  \n",
              "2  The actor and his longtime girlfriend Anna Ebe... 2018-05-26  \n",
              "3  The actor gives Dems an ass-kicking for not fi... 2018-05-26  \n",
              "4  The \"Dietland\" actress said using the bags is ... 2018-05-26  "
            ],
            "text/html": [
              "\n",
              "  <div id=\"df-15446b34-5e70-4884-adf8-ab8c5778a2e1\" class=\"colab-df-container\">\n",
              "    <div>\n",
              "<style scoped>\n",
              "    .dataframe tbody tr th:only-of-type {\n",
              "        vertical-align: middle;\n",
              "    }\n",
              "\n",
              "    .dataframe tbody tr th {\n",
              "        vertical-align: top;\n",
              "    }\n",
              "\n",
              "    .dataframe thead th {\n",
              "        text-align: right;\n",
              "    }\n",
              "</style>\n",
              "<table border=\"1\" class=\"dataframe\">\n",
              "  <thead>\n",
              "    <tr style=\"text-align: right;\">\n",
              "      <th></th>\n",
              "      <th>category</th>\n",
              "      <th>headline</th>\n",
              "      <th>authors</th>\n",
              "      <th>link</th>\n",
              "      <th>short_description</th>\n",
              "      <th>date</th>\n",
              "    </tr>\n",
              "  </thead>\n",
              "  <tbody>\n",
              "    <tr>\n",
              "      <th>0</th>\n",
              "      <td>CRIME</td>\n",
              "      <td>There Were 2 Mass Shootings In Texas Last Week...</td>\n",
              "      <td>Melissa Jeltsen</td>\n",
              "      <td>https://www.huffingtonpost.com/entry/texas-ama...</td>\n",
              "      <td>She left her husband. He killed their children...</td>\n",
              "      <td>2018-05-26</td>\n",
              "    </tr>\n",
              "    <tr>\n",
              "      <th>1</th>\n",
              "      <td>ENTERTAINMENT</td>\n",
              "      <td>Will Smith Joins Diplo And Nicky Jam For The 2...</td>\n",
              "      <td>Andy McDonald</td>\n",
              "      <td>https://www.huffingtonpost.com/entry/will-smit...</td>\n",
              "      <td>Of course it has a song.</td>\n",
              "      <td>2018-05-26</td>\n",
              "    </tr>\n",
              "    <tr>\n",
              "      <th>2</th>\n",
              "      <td>ENTERTAINMENT</td>\n",
              "      <td>Hugh Grant Marries For The First Time At Age 57</td>\n",
              "      <td>Ron Dicker</td>\n",
              "      <td>https://www.huffingtonpost.com/entry/hugh-gran...</td>\n",
              "      <td>The actor and his longtime girlfriend Anna Ebe...</td>\n",
              "      <td>2018-05-26</td>\n",
              "    </tr>\n",
              "    <tr>\n",
              "      <th>3</th>\n",
              "      <td>ENTERTAINMENT</td>\n",
              "      <td>Jim Carrey Blasts 'Castrato' Adam Schiff And D...</td>\n",
              "      <td>Ron Dicker</td>\n",
              "      <td>https://www.huffingtonpost.com/entry/jim-carre...</td>\n",
              "      <td>The actor gives Dems an ass-kicking for not fi...</td>\n",
              "      <td>2018-05-26</td>\n",
              "    </tr>\n",
              "    <tr>\n",
              "      <th>4</th>\n",
              "      <td>ENTERTAINMENT</td>\n",
              "      <td>Julianna Margulies Uses Donald Trump Poop Bags...</td>\n",
              "      <td>Ron Dicker</td>\n",
              "      <td>https://www.huffingtonpost.com/entry/julianna-...</td>\n",
              "      <td>The \"Dietland\" actress said using the bags is ...</td>\n",
              "      <td>2018-05-26</td>\n",
              "    </tr>\n",
              "  </tbody>\n",
              "</table>\n",
              "</div>\n",
              "    <div class=\"colab-df-buttons\">\n",
              "\n",
              "  <div class=\"colab-df-container\">\n",
              "    <button class=\"colab-df-convert\" onclick=\"convertToInteractive('df-15446b34-5e70-4884-adf8-ab8c5778a2e1')\"\n",
              "            title=\"Convert this dataframe to an interactive table.\"\n",
              "            style=\"display:none;\">\n",
              "\n",
              "  <svg xmlns=\"http://www.w3.org/2000/svg\" height=\"24px\" viewBox=\"0 -960 960 960\">\n",
              "    <path d=\"M120-120v-720h720v720H120Zm60-500h600v-160H180v160Zm220 220h160v-160H400v160Zm0 220h160v-160H400v160ZM180-400h160v-160H180v160Zm440 0h160v-160H620v160ZM180-180h160v-160H180v160Zm440 0h160v-160H620v160Z\"/>\n",
              "  </svg>\n",
              "    </button>\n",
              "\n",
              "  <style>\n",
              "    .colab-df-container {\n",
              "      display:flex;\n",
              "      gap: 12px;\n",
              "    }\n",
              "\n",
              "    .colab-df-convert {\n",
              "      background-color: #E8F0FE;\n",
              "      border: none;\n",
              "      border-radius: 50%;\n",
              "      cursor: pointer;\n",
              "      display: none;\n",
              "      fill: #1967D2;\n",
              "      height: 32px;\n",
              "      padding: 0 0 0 0;\n",
              "      width: 32px;\n",
              "    }\n",
              "\n",
              "    .colab-df-convert:hover {\n",
              "      background-color: #E2EBFA;\n",
              "      box-shadow: 0px 1px 2px rgba(60, 64, 67, 0.3), 0px 1px 3px 1px rgba(60, 64, 67, 0.15);\n",
              "      fill: #174EA6;\n",
              "    }\n",
              "\n",
              "    .colab-df-buttons div {\n",
              "      margin-bottom: 4px;\n",
              "    }\n",
              "\n",
              "    [theme=dark] .colab-df-convert {\n",
              "      background-color: #3B4455;\n",
              "      fill: #D2E3FC;\n",
              "    }\n",
              "\n",
              "    [theme=dark] .colab-df-convert:hover {\n",
              "      background-color: #434B5C;\n",
              "      box-shadow: 0px 1px 3px 1px rgba(0, 0, 0, 0.15);\n",
              "      filter: drop-shadow(0px 1px 2px rgba(0, 0, 0, 0.3));\n",
              "      fill: #FFFFFF;\n",
              "    }\n",
              "  </style>\n",
              "\n",
              "    <script>\n",
              "      const buttonEl =\n",
              "        document.querySelector('#df-15446b34-5e70-4884-adf8-ab8c5778a2e1 button.colab-df-convert');\n",
              "      buttonEl.style.display =\n",
              "        google.colab.kernel.accessAllowed ? 'block' : 'none';\n",
              "\n",
              "      async function convertToInteractive(key) {\n",
              "        const element = document.querySelector('#df-15446b34-5e70-4884-adf8-ab8c5778a2e1');\n",
              "        const dataTable =\n",
              "          await google.colab.kernel.invokeFunction('convertToInteractive',\n",
              "                                                    [key], {});\n",
              "        if (!dataTable) return;\n",
              "\n",
              "        const docLinkHtml = 'Like what you see? Visit the ' +\n",
              "          '<a target=\"_blank\" href=https://colab.research.google.com/notebooks/data_table.ipynb>data table notebook</a>'\n",
              "          + ' to learn more about interactive tables.';\n",
              "        element.innerHTML = '';\n",
              "        dataTable['output_type'] = 'display_data';\n",
              "        await google.colab.output.renderOutput(dataTable, element);\n",
              "        const docLink = document.createElement('div');\n",
              "        docLink.innerHTML = docLinkHtml;\n",
              "        element.appendChild(docLink);\n",
              "      }\n",
              "    </script>\n",
              "  </div>\n",
              "\n",
              "\n",
              "<div id=\"df-c36b690a-93a6-406e-8350-1f06c2764f0b\">\n",
              "  <button class=\"colab-df-quickchart\" onclick=\"quickchart('df-c36b690a-93a6-406e-8350-1f06c2764f0b')\"\n",
              "            title=\"Suggest charts\"\n",
              "            style=\"display:none;\">\n",
              "\n",
              "<svg xmlns=\"http://www.w3.org/2000/svg\" height=\"24px\"viewBox=\"0 0 24 24\"\n",
              "     width=\"24px\">\n",
              "    <g>\n",
              "        <path d=\"M19 3H5c-1.1 0-2 .9-2 2v14c0 1.1.9 2 2 2h14c1.1 0 2-.9 2-2V5c0-1.1-.9-2-2-2zM9 17H7v-7h2v7zm4 0h-2V7h2v10zm4 0h-2v-4h2v4z\"/>\n",
              "    </g>\n",
              "</svg>\n",
              "  </button>\n",
              "\n",
              "<style>\n",
              "  .colab-df-quickchart {\n",
              "      --bg-color: #E8F0FE;\n",
              "      --fill-color: #1967D2;\n",
              "      --hover-bg-color: #E2EBFA;\n",
              "      --hover-fill-color: #174EA6;\n",
              "      --disabled-fill-color: #AAA;\n",
              "      --disabled-bg-color: #DDD;\n",
              "  }\n",
              "\n",
              "  [theme=dark] .colab-df-quickchart {\n",
              "      --bg-color: #3B4455;\n",
              "      --fill-color: #D2E3FC;\n",
              "      --hover-bg-color: #434B5C;\n",
              "      --hover-fill-color: #FFFFFF;\n",
              "      --disabled-bg-color: #3B4455;\n",
              "      --disabled-fill-color: #666;\n",
              "  }\n",
              "\n",
              "  .colab-df-quickchart {\n",
              "    background-color: var(--bg-color);\n",
              "    border: none;\n",
              "    border-radius: 50%;\n",
              "    cursor: pointer;\n",
              "    display: none;\n",
              "    fill: var(--fill-color);\n",
              "    height: 32px;\n",
              "    padding: 0;\n",
              "    width: 32px;\n",
              "  }\n",
              "\n",
              "  .colab-df-quickchart:hover {\n",
              "    background-color: var(--hover-bg-color);\n",
              "    box-shadow: 0 1px 2px rgba(60, 64, 67, 0.3), 0 1px 3px 1px rgba(60, 64, 67, 0.15);\n",
              "    fill: var(--button-hover-fill-color);\n",
              "  }\n",
              "\n",
              "  .colab-df-quickchart-complete:disabled,\n",
              "  .colab-df-quickchart-complete:disabled:hover {\n",
              "    background-color: var(--disabled-bg-color);\n",
              "    fill: var(--disabled-fill-color);\n",
              "    box-shadow: none;\n",
              "  }\n",
              "\n",
              "  .colab-df-spinner {\n",
              "    border: 2px solid var(--fill-color);\n",
              "    border-color: transparent;\n",
              "    border-bottom-color: var(--fill-color);\n",
              "    animation:\n",
              "      spin 1s steps(1) infinite;\n",
              "  }\n",
              "\n",
              "  @keyframes spin {\n",
              "    0% {\n",
              "      border-color: transparent;\n",
              "      border-bottom-color: var(--fill-color);\n",
              "      border-left-color: var(--fill-color);\n",
              "    }\n",
              "    20% {\n",
              "      border-color: transparent;\n",
              "      border-left-color: var(--fill-color);\n",
              "      border-top-color: var(--fill-color);\n",
              "    }\n",
              "    30% {\n",
              "      border-color: transparent;\n",
              "      border-left-color: var(--fill-color);\n",
              "      border-top-color: var(--fill-color);\n",
              "      border-right-color: var(--fill-color);\n",
              "    }\n",
              "    40% {\n",
              "      border-color: transparent;\n",
              "      border-right-color: var(--fill-color);\n",
              "      border-top-color: var(--fill-color);\n",
              "    }\n",
              "    60% {\n",
              "      border-color: transparent;\n",
              "      border-right-color: var(--fill-color);\n",
              "    }\n",
              "    80% {\n",
              "      border-color: transparent;\n",
              "      border-right-color: var(--fill-color);\n",
              "      border-bottom-color: var(--fill-color);\n",
              "    }\n",
              "    90% {\n",
              "      border-color: transparent;\n",
              "      border-bottom-color: var(--fill-color);\n",
              "    }\n",
              "  }\n",
              "</style>\n",
              "\n",
              "  <script>\n",
              "    async function quickchart(key) {\n",
              "      const quickchartButtonEl =\n",
              "        document.querySelector('#' + key + ' button');\n",
              "      quickchartButtonEl.disabled = true;  // To prevent multiple clicks.\n",
              "      quickchartButtonEl.classList.add('colab-df-spinner');\n",
              "      try {\n",
              "        const charts = await google.colab.kernel.invokeFunction(\n",
              "            'suggestCharts', [key], {});\n",
              "      } catch (error) {\n",
              "        console.error('Error during call to suggestCharts:', error);\n",
              "      }\n",
              "      quickchartButtonEl.classList.remove('colab-df-spinner');\n",
              "      quickchartButtonEl.classList.add('colab-df-quickchart-complete');\n",
              "    }\n",
              "    (() => {\n",
              "      let quickchartButtonEl =\n",
              "        document.querySelector('#df-c36b690a-93a6-406e-8350-1f06c2764f0b button');\n",
              "      quickchartButtonEl.style.display =\n",
              "        google.colab.kernel.accessAllowed ? 'block' : 'none';\n",
              "    })();\n",
              "  </script>\n",
              "</div>\n",
              "\n",
              "    </div>\n",
              "  </div>\n"
            ],
            "application/vnd.google.colaboratory.intrinsic+json": {
              "type": "dataframe",
              "variable_name": "reviews"
            }
          },
          "metadata": {},
          "execution_count": 3
        }
      ],
      "source": [
        "reviews.head()"
      ]
    },
    {
      "cell_type": "code",
      "execution_count": 4,
      "metadata": {
        "colab": {
          "base_uri": "https://localhost:8080/"
        },
        "id": "vSuGI3X2MaNh",
        "outputId": "e04c5e89-b4b7-4797-cd50-36ac123baf02"
      },
      "outputs": [
        {
          "output_type": "stream",
          "name": "stdout",
          "text": [
            "200853 reviews with 6 attributes available, including:\n",
            "\n",
            "category\n",
            "headline\n",
            "authors\n",
            "link\n",
            "short_description\n",
            "date\n"
          ]
        }
      ],
      "source": [
        "print(f\"{reviews.shape[0]} reviews with {reviews.shape[1]} attributes available, including:\\n\")\n",
        "attributes = \"\\n\".join(reviews.columns)\n",
        "print(f\"{attributes}\")"
      ]
    },
    {
      "cell_type": "code",
      "execution_count": 5,
      "metadata": {
        "colab": {
          "base_uri": "https://localhost:8080/"
        },
        "id": "f7wvc06JNyoZ",
        "outputId": "846fcedd-f9a4-4770-93dc-31a0d3a38922"
      },
      "outputs": [
        {
          "output_type": "stream",
          "name": "stdout",
          "text": [
            "CRIME\n",
            "ENTERTAINMENT\n",
            "WORLD NEWS\n",
            "IMPACT\n",
            "POLITICS\n",
            "WEIRD NEWS\n",
            "BLACK VOICES\n",
            "WOMEN\n",
            "COMEDY\n",
            "QUEER VOICES\n",
            "SPORTS\n",
            "BUSINESS\n",
            "TRAVEL\n",
            "MEDIA\n",
            "TECH\n",
            "RELIGION\n",
            "SCIENCE\n",
            "LATINO VOICES\n",
            "EDUCATION\n",
            "COLLEGE\n",
            "PARENTS\n",
            "ARTS & CULTURE\n",
            "STYLE\n",
            "GREEN\n",
            "TASTE\n",
            "HEALTHY LIVING\n",
            "THE WORLDPOST\n",
            "GOOD NEWS\n",
            "WORLDPOST\n",
            "FIFTY\n",
            "ARTS\n",
            "WELLNESS\n",
            "PARENTING\n",
            "HOME & LIVING\n",
            "STYLE & BEAUTY\n",
            "DIVORCE\n",
            "WEDDINGS\n",
            "FOOD & DRINK\n",
            "MONEY\n",
            "ENVIRONMENT\n",
            "CULTURE & ARTS\n"
          ]
        }
      ],
      "source": [
        "all_categories = \"\\n\".join(reviews['category'].unique())\n",
        "print(all_categories)"
      ]
    },
    {
      "cell_type": "code",
      "execution_count": 6,
      "metadata": {
        "colab": {
          "base_uri": "https://localhost:8080/"
        },
        "id": "9jcmSiEAOes_",
        "outputId": "eafd57a4-c375-4d63-b633-e891f93687bc"
      },
      "outputs": [
        {
          "output_type": "stream",
          "name": "stdout",
          "text": [
            "<class 'pandas.core.frame.DataFrame'>\n",
            "Int64Index: 200853 entries, 0 to 200852\n",
            "Data columns (total 6 columns):\n",
            " #   Column             Non-Null Count   Dtype         \n",
            "---  ------             --------------   -----         \n",
            " 0   category           200853 non-null  object        \n",
            " 1   headline           200853 non-null  object        \n",
            " 2   authors            200853 non-null  object        \n",
            " 3   link               200853 non-null  object        \n",
            " 4   short_description  200853 non-null  object        \n",
            " 5   date               200853 non-null  datetime64[ns]\n",
            "dtypes: datetime64[ns](1), object(5)\n",
            "memory usage: 10.7+ MB\n"
          ]
        }
      ],
      "source": [
        "reviews.info()"
      ]
    },
    {
      "cell_type": "code",
      "execution_count": 7,
      "metadata": {
        "id": "CU9mnwM4Ob9P"
      },
      "outputs": [],
      "source": [
        "# # Convert date to date\n",
        "# reviews['date'] = pd.to_datetime(reviews['date'])"
      ]
    },
    {
      "cell_type": "code",
      "execution_count": 8,
      "metadata": {
        "colab": {
          "base_uri": "https://localhost:8080/",
          "height": 579
        },
        "id": "mfK_XCXjOoZZ",
        "outputId": "048c4ecc-5c8d-46be-e075-202b80c06dbe"
      },
      "outputs": [
        {
          "output_type": "display_data",
          "data": {
            "text/plain": [
              "<Figure size 640x480 with 1 Axes>"
            ],
            "image/png": "[encoded data removed]"
          },
          "metadata": {}
        }
      ],
      "source": [
        "# Plot breakdown of entries by category\n",
        "reviews['category'].value_counts().plot(kind='bar', title='Breakdown of Entries by Category')\n",
        "plt.xlabel('Category')\n",
        "plt.ylabel('Number of Entries')\n",
        "plt.show()"
      ]
    },
    {
      "cell_type": "code",
      "execution_count": 9,
      "metadata": {
        "id": "9Y0srCovSQ50"
      },
      "outputs": [],
      "source": [
        "def plot_category_by_date(df, category):\n",
        "\n",
        "    # Filter DataFrame for the specified category\n",
        "    if isinstance(category, list):\n",
        "      filtered = df[df['category'].isin(category)]\n",
        "      print(filtered.shape)\n",
        "      grouped_data = filtered.groupby([pd.Grouper(key=\"date\", freq='M'), 'category']).size().unstack()\n",
        "    else:\n",
        "      filtered = df[df['category'] == category]\n",
        "      grouped_data = filtered.groupby(pd.Grouper(key=\"date\", freq='M')).size()\n",
        "\n",
        "    # Group by month and plot\n",
        "    grouped_data.plot(kind='bar', figsize=(12, 6), title='Entries by Date and Category')\n",
        "    plt.xlabel('Month')\n",
        "    plt.ylabel('Number of Entries')\n",
        "    plt.title(f'Articles tagged as \"{category}\" by Month')\n",
        "    plt.show()"
      ]
    },
    {
      "cell_type": "code",
      "execution_count": 10,
      "metadata": {
        "colab": {
          "base_uri": "https://localhost:8080/",
          "height": 713
        },
        "id": "ppW-cO0yUWwY",
        "outputId": "5ee64eb0-58d7-406b-815f-ab02a83c6315"
      },
      "outputs": [
        {
          "output_type": "stream",
          "name": "stdout",
          "text": [
            "(24521, 6)\n"
          ]
        },
        {
          "output_type": "display_data",
          "data": {
            "text/plain": [
              "<Figure size 1200x600 with 1 Axes>"
            ],
            "image/png": "[encoded data removed]"
          },
          "metadata": {}
        }
      ],
      "source": [
        "plot_category_by_date(reviews, [\"WELLNESS\", \"HEALTHY LIVING\"])"
      ]
    },
    {
      "cell_type": "markdown",
      "metadata": {
        "id": "WXa3IHGtMkIA"
      },
      "source": [
        "## Pre Processing"
      ]
    },
    {
      "cell_type": "code",
      "execution_count": 11,
      "metadata": {
        "id": "xVUBG7HNbaSf"
      },
      "outputs": [],
      "source": [
        "reviews['all_text'] = reviews['headline'] + ' ' + reviews['short_description']"
      ]
    },
    {
      "cell_type": "code",
      "source": [
        "from string import punctuation\n",
        "\n",
        "def clean_text(text):\n",
        "  \"\"\"Do some basic cleaning - preprocess methods later will help later\"\"\"\n",
        "  cleaned_text = ''.join([char for char in text if char not in punctuation])\n",
        "  return cleaned_text.lower()\n",
        "\n",
        "reviews['all_text'].apply(clean_text)\n"
      ],
      "metadata": {
        "colab": {
          "base_uri": "https://localhost:8080/"
        },
        "id": "Wcr6NuXEejEd",
        "outputId": "897c02b5-e9a0-414f-fd16-a5be1a971db0"
      },
      "execution_count": 12,
      "outputs": [
        {
          "output_type": "execute_result",
          "data": {
            "text/plain": [
              "0         there were 2 mass shootings in texas last week...\n",
              "1         will smith joins diplo and nicky jam for the 2...\n",
              "2         hugh grant marries for the first time at age 5...\n",
              "3         jim carrey blasts castrato adam schiff and dem...\n",
              "4         julianna margulies uses donald trump poop bags...\n",
              "                                ...                        \n",
              "200848    rim ceo thorsten heins significant plans for b...\n",
              "200849    maria sharapova stunned by victoria azarenka i...\n",
              "200850    giants over patriots jets over colts among  mo...\n",
              "200851    aldon smith arrested 49ers linebacker busted f...\n",
              "200852    dwight howard rips teammates after magic loss ...\n",
              "Name: all_text, Length: 200853, dtype: object"
            ]
          },
          "metadata": {},
          "execution_count": 12
        }
      ]
    },
    {
      "cell_type": "code",
      "execution_count": 13,
      "metadata": {
        "colab": {
          "base_uri": "https://localhost:8080/"
        },
        "id": "z9yov4YXMfGA",
        "outputId": "4a336966-b967-4ead-f20f-71fc776016a6"
      },
      "outputs": [
        {
          "output_type": "execute_result",
          "data": {
            "text/plain": [
              "count    200853.000000\n",
              "mean          0.122084\n",
              "std           0.327384\n",
              "min           0.000000\n",
              "25%           0.000000\n",
              "50%           0.000000\n",
              "75%           0.000000\n",
              "max           1.000000\n",
              "Name: health_and_wellness, dtype: float64"
            ]
          },
          "metadata": {},
          "execution_count": 13
        }
      ],
      "source": [
        "reviews['health_and_wellness'] = np.where((reviews['category'].isin([\"HEALTHY LIVING\", \"WELLNESS\"])), 1, 0)\n",
        "reviews['health_and_wellness'].describe()"
      ]
    },
    {
      "cell_type": "code",
      "execution_count": 14,
      "metadata": {
        "colab": {
          "base_uri": "https://localhost:8080/"
        },
        "id": "zkuI0OSPVHQI",
        "outputId": "7e33e41f-f5ef-43fb-b303-c89df0b17bc0"
      },
      "outputs": [
        {
          "output_type": "execute_result",
          "data": {
            "text/plain": [
              "0    176332\n",
              "1     24521\n",
              "Name: health_and_wellness, dtype: int64"
            ]
          },
          "metadata": {},
          "execution_count": 14
        }
      ],
      "source": [
        "value_counts = reviews['health_and_wellness'].value_counts()\n",
        "value_counts.head()"
      ]
    },
    {
      "cell_type": "code",
      "execution_count": 15,
      "metadata": {
        "colab": {
          "base_uri": "https://localhost:8080/",
          "height": 467
        },
        "id": "4o0JSueGXOUM",
        "outputId": "f852c065-02f0-4238-9cd7-796c46afb1f0"
      },
      "outputs": [
        {
          "output_type": "display_data",
          "data": {
            "text/plain": [
              "<Figure size 640x480 with 1 Axes>"
            ],
            "image/png": "[encoded data removed]"
          },
          "metadata": {}
        }
      ],
      "source": [
        "value_counts.plot(kind='bar')\n",
        "plt.xlabel('Is Health & Wellness?')\n",
        "plt.ylabel('Count')\n",
        "plt.title('Distribution of Health and Wellness Articles')\n",
        "plt.show()"
      ]
    },
    {
      "cell_type": "code",
      "execution_count": 16,
      "metadata": {
        "id": "ly0zYUu6ftxa"
      },
      "outputs": [],
      "source": [
        "reviews.drop(['category', 'headline', 'authors', 'link', 'short_description', 'date'], axis=1, inplace=True)"
      ]
    },
    {
      "cell_type": "markdown",
      "metadata": {
        "id": "X_Ztim-2XTgq"
      },
      "source": [
        "Need a more even distribution:"
      ]
    },
    {
      "cell_type": "code",
      "execution_count": 17,
      "metadata": {
        "colab": {
          "base_uri": "https://localhost:8080/"
        },
        "id": "ZGf4sfflXZcg",
        "outputId": "29696718-6105-46df-c08a-f9ffd4cf88e1"
      },
      "outputs": [
        {
          "output_type": "stream",
          "name": "stdout",
          "text": [
            "(5000, 2)\n",
            "(5000, 2)\n"
          ]
        }
      ],
      "source": [
        "sample_amount = 5000\n",
        "\n",
        "health_and_wellness = reviews[reviews['health_and_wellness'] == 1].sample(n=sample_amount)\n",
        "not_health_and_wellness = reviews[reviews['health_and_wellness'] == 0].sample(n=sample_amount)\n",
        "print(health_and_wellness.shape)\n",
        "print(not_health_and_wellness.shape)"
      ]
    },
    {
      "cell_type": "markdown",
      "metadata": {
        "id": "1tXmwgJkMm3h"
      },
      "source": [
        "# Model Building\n",
        "\n",
        "## Baseline Model with Distilbert"
      ]
    },
    {
      "cell_type": "code",
      "execution_count": 18,
      "metadata": {
        "id": "UG-OTgB_Y_Ux"
      },
      "outputs": [],
      "source": [
        "# tf.keras.backend.clear_session()\n",
        "# target_names = ['NOT HEALTH & WELLNESS','HEALTH & WELLNESS']"
      ]
    },
    {
      "cell_type": "code",
      "execution_count": 19,
      "metadata": {
        "id": "jNGKVS9OaHau"
      },
      "outputs": [],
      "source": [
        "review_sample = pd.concat([health_and_wellness,not_health_and_wellness])"
      ]
    },
    {
      "cell_type": "code",
      "execution_count": 20,
      "metadata": {
        "colab": {
          "base_uri": "https://localhost:8080/",
          "height": 758,
          "referenced_widgets": [
            "a0f024283adf4358b5c2374471fc1148",
            "51cea531d6fd413497273b9b25c58a6a",
            "41b08650294e4b39a4741c7780c8ed23",
            "f684d31fa716443eb42adb0e1edce816",
            "8c7970eb76964f029b0cb0fddc253ad8",
            "8d6bdf98a1d6481bae643c01a23e102d",
            "72848a49abb94a3a885f4743d3f8e370",
            "a9611d5bb1234de3898bf63395f90d9d",
            "6e33d0dbd2514d47a4f532119efd63d1",
            "7c82404bd2e444b19d149a2a1300a553",
            "644a3e5971284c4cbac6d8a09f648a22",
            "7591d795998143d0bba99fda832ec630",
            "03a5f598299346c5b40231274bcc6d86",
            "8d16bc3602e24cdca8b417e6355dbbdf",
            "d3df80ccf79843ec81be4254e8298e22",
            "580911189a714188be8b37bad34b9b15",
            "d2e14da11c3e443a9c8f0b09933ee0e6",
            "2c96d14ba9e64df38a234721fbac4d22",
            "cceb3bd7d5cc40d080d177f8f996d7f9",
            "ef74e284657f496d982110783b5dc536",
            "6d0ebad7e50841938ffb67b532492dce",
            "50382f31a5684da6b908fbc7fbc1313a",
            "05b4845e8a51423d88092e8891c610fe",
            "48198656a9674d60b2a52ac640a65a0f",
            "d6a265eaf5aa4b65aee68b4d4d7b7514",
            "099d8db5dd3b4226b1da0c7834a5b507",
            "704e4a075a574c3daaec9c1e2d5841ef",
            "e096384d511d4fdb8684834bab94444e",
            "a6b5eb77eec3458fb6292a842bfa4adb",
            "d32a80cf64f14ab0b3889ae406c8ab26",
            "d6735a588f2a4d27a97539eff9a4b7f8",
            "6adbcddb5c79487b82b88afed9b3bf33",
            "a6b99d90b67b4c72abc81e24e4e87657",
            "9c04c7e8807848fc8d9b757081ab1212",
            "c19e0880583942788fd5d840bf786330",
            "2b93e290ec7d4105817c3b93bc51887d",
            "221fbe57c9d6488f8bd3b198607fc60b",
            "a5eda110615744d8a713fbd4dac4790b",
            "e63477405c724c4791432253c02b434a",
            "db1c2586d09b44e5a228120d30707b98",
            "79fa67a3ea3f4d9e9a02c7cf5d1baa94",
            "16ee6a655ff04e309bb443a58770b92f",
            "748b7dcb1c434a7e8956bd9abc9e75f3",
            "e7dc94e65ca844c9933c138955ad5b5c",
            "1df4230fd6944ea1b0b55414d868651d",
            "c65d8d38f83c4e93a1faeab2f2a1272d",
            "9d88608d23734c14b62bf64e6c4b2f63",
            "294b0e8d3cfa4f87a498c55a53f01b5c",
            "93b72f9e021546008f3ccc25b8709510",
            "57c466b4b785411e919aa3fbcc8296b1",
            "8f2c7c4d742e4de4913dd7f907349325",
            "a69d86a7f88248c7952a4b75f1f31ade",
            "c0281b9a676a41488cf49ddd9c059c79",
            "f44d733b6499469a9a8c7e2d967d657a",
            "7fde5db115814a1388357142839eec43"
          ]
        },
        "id": "qTNhhp95anhI",
        "outputId": "8de36a7e-eb20-4ece-9a03-c8d6919a5ab1"
      },
      "outputs": [
        {
          "output_type": "stream",
          "name": "stdout",
          "text": [
            "['not_health_and_wellness', 'health_and_wellness']\n",
            "        not_health_and_wellness  health_and_wellness\n",
            "14182                       0.0                  1.0\n",
            "148359                      0.0                  1.0\n",
            "139712                      0.0                  1.0\n",
            "84069                       0.0                  1.0\n",
            "97475                       1.0                  0.0\n",
            "['not_health_and_wellness', 'health_and_wellness']\n",
            "        not_health_and_wellness  health_and_wellness\n",
            "25732                       1.0                  0.0\n",
            "159522                      1.0                  0.0\n",
            "160163                      1.0                  0.0\n",
            "38634                       0.0                  1.0\n",
            "118629                      0.0                  1.0\n"
          ]
        },
        {
          "output_type": "stream",
          "name": "stderr",
          "text": [
            "/usr/local/lib/python3.10/dist-packages/huggingface_hub/utils/_token.py:88: UserWarning: \n",
            "The secret `HF_TOKEN` does not exist in your Colab secrets.\n",
            "To authenticate with the Hugging Face Hub, create a token in your settings tab (https://huggingface.co/settings/tokens), set it as secret in your Google Colab and restart your session.\n",
            "You will be able to reuse this secret in all of your notebooks.\n",
            "Please note that authentication is recommended but still optional to access public models or datasets.\n",
            "  warnings.warn(\n"
          ]
        },
        {
          "output_type": "display_data",
          "data": {
            "text/plain": [
              "config.json:   0%|          | 0.00/483 [00:00<?, ?B/s]"
            ],
            "application/vnd.jupyter.widget-view+json": {
              "version_major": 2,
              "version_minor": 0,
              "model_id": "a0f024283adf4358b5c2374471fc1148"
            }
          },
          "metadata": {}
        },
        {
          "output_type": "display_data",
          "data": {
            "text/plain": [
              "model.safetensors:   0%|          | 0.00/268M [00:00<?, ?B/s]"
            ],
            "application/vnd.jupyter.widget-view+json": {
              "version_major": 2,
              "version_minor": 0,
              "model_id": "7591d795998143d0bba99fda832ec630"
            }
          },
          "metadata": {}
        },
        {
          "output_type": "stream",
          "name": "stdout",
          "text": [
            "preprocessing train...\n",
            "language: en\n",
            "train sequence lengths:\n",
            "\tmean : 32\n",
            "\t95percentile : 58\n",
            "\t99percentile : 68\n"
          ]
        },
        {
          "output_type": "display_data",
          "data": {
            "text/plain": [
              "tokenizer_config.json:   0%|          | 0.00/28.0 [00:00<?, ?B/s]"
            ],
            "application/vnd.jupyter.widget-view+json": {
              "version_major": 2,
              "version_minor": 0,
              "model_id": "05b4845e8a51423d88092e8891c610fe"
            }
          },
          "metadata": {}
        },
        {
          "output_type": "display_data",
          "data": {
            "text/plain": [
              "vocab.txt:   0%|          | 0.00/232k [00:00<?, ?B/s]"
            ],
            "application/vnd.jupyter.widget-view+json": {
              "version_major": 2,
              "version_minor": 0,
              "model_id": "9c04c7e8807848fc8d9b757081ab1212"
            }
          },
          "metadata": {}
        },
        {
          "output_type": "display_data",
          "data": {
            "text/plain": [
              "tokenizer.json:   0%|          | 0.00/466k [00:00<?, ?B/s]"
            ],
            "application/vnd.jupyter.widget-view+json": {
              "version_major": 2,
              "version_minor": 0,
              "model_id": "1df4230fd6944ea1b0b55414d868651d"
            }
          },
          "metadata": {}
        },
        {
          "output_type": "display_data",
          "data": {
            "text/plain": [
              "<IPython.core.display.HTML object>"
            ],
            "text/html": [
              "\n",
              "<style>\n",
              "    /* Turns off some styling */\n",
              "    progress {\n",
              "        /* gets rid of default border in Firefox and Opera. */\n",
              "        border: none;\n",
              "        /* Needs to be in here for Safari polyfill so background images work as expected. */\n",
              "        background-size: auto;\n",
              "    }\n",
              "    progress:not([value]), progress:not([value])::-webkit-progress-bar {\n",
              "        background: repeating-linear-gradient(45deg, #7e7e7e, #7e7e7e 10px, #5c5c5c 10px, #5c5c5c 20px);\n",
              "    }\n",
              "    .progress-bar-interrupted, .progress-bar-interrupted::-webkit-progress-bar {\n",
              "        background: #F44336;\n",
              "    }\n",
              "</style>\n"
            ]
          },
          "metadata": {}
        },
        {
          "output_type": "display_data",
          "data": {
            "text/plain": [
              "<IPython.core.display.HTML object>"
            ],
            "text/html": []
          },
          "metadata": {}
        },
        {
          "output_type": "stream",
          "name": "stdout",
          "text": [
            "Is Multi-Label? False\n",
            "preprocessing test...\n",
            "language: en\n",
            "test sequence lengths:\n",
            "\tmean : 31\n",
            "\t95percentile : 57\n",
            "\t99percentile : 67\n"
          ]
        },
        {
          "output_type": "display_data",
          "data": {
            "text/plain": [
              "<IPython.core.display.HTML object>"
            ],
            "text/html": [
              "\n",
              "<style>\n",
              "    /* Turns off some styling */\n",
              "    progress {\n",
              "        /* gets rid of default border in Firefox and Opera. */\n",
              "        border: none;\n",
              "        /* Needs to be in here for Safari polyfill so background images work as expected. */\n",
              "        background-size: auto;\n",
              "    }\n",
              "    progress:not([value]), progress:not([value])::-webkit-progress-bar {\n",
              "        background: repeating-linear-gradient(45deg, #7e7e7e, #7e7e7e 10px, #5c5c5c 10px, #5c5c5c 20px);\n",
              "    }\n",
              "    .progress-bar-interrupted, .progress-bar-interrupted::-webkit-progress-bar {\n",
              "        background: #F44336;\n",
              "    }\n",
              "</style>\n"
            ]
          },
          "metadata": {}
        },
        {
          "output_type": "display_data",
          "data": {
            "text/plain": [
              "<IPython.core.display.HTML object>"
            ],
            "text/html": []
          },
          "metadata": {}
        }
      ],
      "source": [
        "train, val, preprocess = texts_from_df(\n",
        "    review_sample,\n",
        "    'all_text',\n",
        "    label_columns=['health_and_wellness'],\n",
        "    val_df=None,\n",
        "    max_features=10000,\n",
        "    maxlen=512,\n",
        "    val_pct=0.1,\n",
        "    ngram_range=1,\n",
        "    preprocess_mode='distilbert',\n",
        "    verbose=1\n",
        ")\n"
      ]
    },
    {
      "cell_type": "code",
      "execution_count": 21,
      "metadata": {
        "id": "SYnepIyrbs6T"
      },
      "outputs": [],
      "source": [
        "model = preprocess.get_classifier()\n",
        "learner = ktrain.get_learner(model, train_data=train, val_data=val, batch_size=16)"
      ]
    },
    {
      "cell_type": "code",
      "execution_count": 22,
      "metadata": {
        "colab": {
          "base_uri": "https://localhost:8080/"
        },
        "id": "Dos_2KWA4ec-",
        "outputId": "d0d2608a-f4e6-4e6d-8c80-408c78e677e5"
      },
      "outputs": [
        {
          "output_type": "stream",
          "name": "stdout",
          "text": [
            "simulating training for different learning rates... this may take a few moments...\n",
            "Epoch 1/6\n",
            "562/562 [==============================] - 538s 877ms/step - loss: 0.6616 - accuracy: 0.6122\n",
            "Epoch 2/6\n",
            "562/562 [==============================] - 508s 904ms/step - loss: 0.2936 - accuracy: 0.8895\n",
            "Epoch 3/6\n",
            "562/562 [==============================] - 506s 900ms/step - loss: 0.4018 - accuracy: 0.7905\n",
            "Epoch 4/6\n",
            "562/562 [==============================] - 502s 894ms/step - loss: 0.6978 - accuracy: 0.5056\n",
            "Epoch 5/6\n",
            "562/562 [==============================] - 219s 389ms/step - loss: 8.0232 - accuracy: 0.5013\n",
            "\n",
            "\n",
            "done.\n",
            "Please invoke the Learner.lr_plot() method to visually inspect the loss plot to help identify the maximal learning rate associated with falling loss.\n"
          ]
        }
      ],
      "source": [
        "learner.lr_find(max_epochs=6)"
      ]
    },
    {
      "cell_type": "code",
      "execution_count": 23,
      "metadata": {
        "id": "QPj7TG424iaS",
        "colab": {
          "base_uri": "https://localhost:8080/",
          "height": 454
        },
        "outputId": "9e2906f0-0fb1-484c-8248-6382d8a0d857"
      },
      "outputs": [
        {
          "output_type": "display_data",
          "data": {
            "text/plain": [
              "<Figure size 640x480 with 1 Axes>"
            ],
            "image/png": "[encoded data removed]"
          },
          "metadata": {}
        }
      ],
      "source": [
        "learner.lr_plot()"
      ]
    },
    {
      "cell_type": "code",
      "execution_count": 24,
      "metadata": {
        "id": "jpDKN9LYfl5w",
        "colab": {
          "base_uri": "https://localhost:8080/"
        },
        "outputId": "a849fcb2-196c-4887-a2d5-41007da600e6"
      },
      "outputs": [
        {
          "output_type": "stream",
          "name": "stdout",
          "text": [
            "\n",
            "\n",
            "begin training using triangular learning rate policy with max lr of 0.0001...\n",
            "Epoch 1/12\n",
            "563/563 [==============================] - 539s 916ms/step - loss: 0.3079 - accuracy: 0.8769 - val_loss: 0.2043 - val_accuracy: 0.9090\n",
            "Epoch 2/12\n",
            "563/563 [==============================] - ETA: 0s - loss: 0.1364 - accuracy: 0.9518Restoring model weights from the end of the best epoch: 1.\n",
            "563/563 [==============================] - 511s 907ms/step - loss: 0.1364 - accuracy: 0.9518 - val_loss: 0.2221 - val_accuracy: 0.9140\n",
            "Epoch 2: early stopping\n",
            "Weights from best epoch have been loaded into model.\n"
          ]
        }
      ],
      "source": [
        "history=learner.autofit(1e-4,checkpoint_folder='checkpoint',epochs=12, early_stopping=True)"
      ]
    },
    {
      "cell_type": "code",
      "execution_count": 25,
      "metadata": {
        "id": "21l4x29UfogX"
      },
      "outputs": [],
      "source": [
        "learner.save_model(f\"{PATH}/distilbertmodel_learner\")"
      ]
    },
    {
      "cell_type": "code",
      "execution_count": 26,
      "metadata": {
        "id": "V_fIkKPMfp8S"
      },
      "outputs": [],
      "source": [
        "predictor = ktrain.get_predictor(learner.model, preproc=preprocess)\n",
        "predictor.save(f\"{PATH}/distilbertmodel_predictor\")"
      ]
    },
    {
      "cell_type": "code",
      "execution_count": 27,
      "metadata": {
        "id": "gP1dG-rbfr1l",
        "colab": {
          "base_uri": "https://localhost:8080/"
        },
        "outputId": "6fe6a4ed-c240-4346-9332-f8000963317b"
      },
      "outputs": [
        {
          "output_type": "stream",
          "name": "stdout",
          "text": [
            "32/32 [==============================] - 8s 141ms/step\n",
            "              precision    recall  f1-score   support\n",
            "\n",
            "           0       0.91      0.91      0.91       521\n",
            "           1       0.91      0.90      0.90       479\n",
            "\n",
            "    accuracy                           0.91      1000\n",
            "   macro avg       0.91      0.91      0.91      1000\n",
            "weighted avg       0.91      0.91      0.91      1000\n",
            "\n"
          ]
        }
      ],
      "source": [
        "validation = learner.validate(val_data=val, print_report=True)"
      ]
    },
    {
      "cell_type": "markdown",
      "metadata": {
        "id": "xHaYfUbmnImu"
      },
      "source": [
        "## Additional Preprocessing Methods\n",
        "\n"
      ]
    },
    {
      "cell_type": "code",
      "execution_count": 35,
      "metadata": {
        "id": "Y0RxYrf4nKbL",
        "colab": {
          "base_uri": "https://localhost:8080/"
        },
        "outputId": "bc089607-b60a-43e0-f55a-47a0801bd321"
      },
      "outputs": [
        {
          "output_type": "stream",
          "name": "stdout",
          "text": [
            "['not_health_and_wellness', 'health_and_wellness']\n",
            "        not_health_and_wellness  health_and_wellness\n",
            "102009                      1.0                  0.0\n",
            "62754                       1.0                  0.0\n",
            "129411                      0.0                  1.0\n",
            "103801                      1.0                  0.0\n",
            "200664                      1.0                  0.0\n",
            "['not_health_and_wellness', 'health_and_wellness']\n",
            "        not_health_and_wellness  health_and_wellness\n",
            "160163                      1.0                  0.0\n",
            "111837                      0.0                  1.0\n",
            "98800                       1.0                  0.0\n",
            "170657                      0.0                  1.0\n",
            "176236                      1.0                  0.0\n",
            "language: en\n",
            "Word Counts: 24465\n",
            "Nrows: 9000\n",
            "9000 train sequences\n",
            "train sequence lengths:\n",
            "\tmean : 31\n",
            "\t95percentile : 56\n",
            "\t99percentile : 67\n",
            "x_train shape: (9000,512)\n",
            "y_train shape: (9000, 2)\n",
            "Is Multi-Label? False\n",
            "1000 test sequences\n",
            "test sequence lengths:\n",
            "\tmean : 30\n",
            "\t95percentile : 56\n",
            "\t99percentile : 65\n",
            "x_test shape: (1000,512)\n",
            "y_test shape: (1000, 2)\n"
          ]
        }
      ],
      "source": [
        "learners = {}\n",
        "\n",
        "train, val, preprocess = texts_from_df(\n",
        "    review_sample,\n",
        "    'all_text',\n",
        "    label_columns=['health_and_wellness'],\n",
        "    val_df=None,\n",
        "    max_features=10000,\n",
        "    maxlen=512,\n",
        "    val_pct=0.1,\n",
        "    ngram_range=1,\n",
        "    preprocess_mode='standard',\n",
        "    verbose=1\n",
        ")\n",
        "\n",
        "def train_with_model(model: str, epochs: int = 10):\n",
        "  model = ktrain.text.text_classifier(model, train , preproc=preprocess)\n",
        "  learner = ktrain.get_learner(model, train_data=train, val_data=val, batch_size=16)\n",
        "  learner.lr_find(max_epochs=epochs)\n",
        "\n",
        "  learner.lr_plot()\n",
        "  optimal_lr = learner.lr_estimate()\n",
        "  print(f\"Optimal LR: {min(optimal_lr)}\")\n",
        "  history=learner.autofit(min(optimal_lr),checkpoint_folder='checkpoint',epochs=12, early_stopping=True)\n",
        "  learner.save_model(f\"{PATH}/{model}_learner\")\n",
        "  predictor = ktrain.get_predictor(learner.model, preproc=preprocess)\n",
        "  predictor.save(f\"{PATH}/{model}_predictor\")\n",
        "  return learner"
      ]
    },
    {
      "cell_type": "code",
      "execution_count": 36,
      "metadata": {
        "id": "QCNw6QQvoyWR",
        "colab": {
          "base_uri": "https://localhost:8080/",
          "height": 1000
        },
        "outputId": "f2685bfe-fb3b-4a9b-c4d4-522106d71f7b"
      },
      "outputs": [
        {
          "output_type": "stream",
          "name": "stdout",
          "text": [
            "Is Multi-Label? False\n",
            "compiling word ID features...\n",
            "maxlen is 512\n",
            "done.\n",
            "simulating training for different learning rates... this may take a few moments...\n"
          ]
        },
        {
          "output_type": "stream",
          "name": "stderr",
          "text": [
            "/usr/local/lib/python3.10/dist-packages/tf_keras/src/engine/training.py:3098: UserWarning: You are saving your model as an HDF5 file via `model.save()`. This file format is considered legacy. We recommend using instead the native TF-Keras format, e.g. `model.save('my_model.keras')`.\n",
            "  saving_api.save_model(\n"
          ]
        },
        {
          "output_type": "stream",
          "name": "stdout",
          "text": [
            "Epoch 1/10\n",
            "563/563 [==============================] - 8s 9ms/step - loss: 0.9148 - accuracy: 0.4896\n",
            "Epoch 2/10\n",
            "563/563 [==============================] - 4s 8ms/step - loss: 0.8891 - accuracy: 0.5021\n",
            "Epoch 3/10\n",
            "563/563 [==============================] - 5s 9ms/step - loss: 0.8983 - accuracy: 0.4974\n",
            "Epoch 4/10\n",
            "563/563 [==============================] - 6s 11ms/step - loss: 0.8450 - accuracy: 0.5109\n",
            "Epoch 5/10\n",
            "563/563 [==============================] - 4s 7ms/step - loss: 0.7286 - accuracy: 0.5739\n",
            "Epoch 6/10\n",
            "563/563 [==============================] - 4s 7ms/step - loss: 0.5226 - accuracy: 0.7490\n",
            "Epoch 7/10\n",
            "563/563 [==============================] - 5s 9ms/step - loss: 0.5051 - accuracy: 0.7686\n",
            "Epoch 8/10\n",
            "563/563 [==============================] - 4s 7ms/step - loss: 0.6817 - accuracy: 0.5474\n",
            "Epoch 9/10\n",
            "563/563 [==============================] - 4s 8ms/step - loss: 0.7275 - accuracy: 0.4926\n",
            "Epoch 10/10\n",
            "563/563 [==============================] - 5s 9ms/step - loss: 1.0398 - accuracy: 0.4961\n",
            "\n",
            "\n",
            "done.\n",
            "Please invoke the Learner.lr_plot() method to visually inspect the loss plot to help identify the maximal learning rate associated with falling loss.\n"
          ]
        },
        {
          "output_type": "display_data",
          "data": {
            "text/plain": [
              "<Figure size 640x480 with 1 Axes>"
            ],
            "image/png": "[encoded data removed]"
          },
          "metadata": {}
        },
        {
          "output_type": "stream",
          "name": "stdout",
          "text": [
            "Optimal LR: 0.0004327469505369663\n",
            "\n",
            "\n",
            "begin training using triangular learning rate policy with max lr of 0.00043274695...\n",
            "Epoch 1/12\n",
            "563/563 [==============================] - 8s 12ms/step - loss: 0.8169 - accuracy: 0.5260 - val_loss: 0.6598 - val_accuracy: 0.7250\n",
            "Epoch 2/12\n",
            "563/563 [==============================] - 4s 7ms/step - loss: 0.6877 - accuracy: 0.6051 - val_loss: 0.5662 - val_accuracy: 0.7760\n",
            "Epoch 3/12\n",
            "563/563 [==============================] - 4s 7ms/step - loss: 0.5914 - accuracy: 0.6854 - val_loss: 0.4759 - val_accuracy: 0.8090\n",
            "Epoch 4/12\n",
            "563/563 [==============================] - 4s 7ms/step - loss: 0.5098 - accuracy: 0.7487 - val_loss: 0.4075 - val_accuracy: 0.8420\n",
            "Epoch 5/12\n",
            "563/563 [==============================] - 3s 6ms/step - loss: 0.4290 - accuracy: 0.8074 - val_loss: 0.3642 - val_accuracy: 0.8520\n",
            "Epoch 6/12\n",
            "563/563 [==============================] - 3s 6ms/step - loss: 0.3842 - accuracy: 0.8348 - val_loss: 0.3392 - val_accuracy: 0.8500\n",
            "Epoch 7/12\n",
            "563/563 [==============================] - 4s 8ms/step - loss: 0.3457 - accuracy: 0.8502 - val_loss: 0.3229 - val_accuracy: 0.8630\n",
            "Epoch 8/12\n",
            "563/563 [==============================] - 3s 6ms/step - loss: 0.3118 - accuracy: 0.8658 - val_loss: 0.3150 - val_accuracy: 0.8730\n",
            "Epoch 9/12\n",
            "563/563 [==============================] - 3s 6ms/step - loss: 0.2807 - accuracy: 0.8866 - val_loss: 0.3120 - val_accuracy: 0.8750\n",
            "Epoch 10/12\n",
            "563/563 [==============================] - 4s 7ms/step - loss: 0.2547 - accuracy: 0.8998 - val_loss: 0.3110 - val_accuracy: 0.8680\n",
            "Epoch 11/12\n",
            "563/563 [==============================] - ETA: 0s - loss: 0.2225 - accuracy: 0.9117Restoring model weights from the end of the best epoch: 10.\n",
            "563/563 [==============================] - 4s 7ms/step - loss: 0.2225 - accuracy: 0.9117 - val_loss: 0.3144 - val_accuracy: 0.8690\n",
            "Epoch 11: early stopping\n",
            "Weights from best epoch have been loaded into model.\n"
          ]
        },
        {
          "output_type": "stream",
          "name": "stderr",
          "text": [
            "/usr/local/lib/python3.10/dist-packages/tf_keras/src/engine/training.py:3098: UserWarning: You are saving your model as an HDF5 file via `model.save()`. This file format is considered legacy. We recommend using instead the native TF-Keras format, e.g. `model.save('my_model.keras')`.\n",
            "  saving_api.save_model(\n"
          ]
        }
      ],
      "source": [
        "fasttext_learner = train_with_model('fasttext')\n",
        "learners['fasttext'] = fasttext_learner"
      ]
    },
    {
      "cell_type": "code",
      "execution_count": 37,
      "metadata": {
        "id": "imcquibvo1ku",
        "colab": {
          "base_uri": "https://localhost:8080/",
          "height": 1000
        },
        "outputId": "414fd439-047b-4f9f-fd45-2237ba245282"
      },
      "outputs": [
        {
          "output_type": "stream",
          "name": "stdout",
          "text": [
            "Is Multi-Label? False\n",
            "compiling word ID features...\n",
            "maxlen is 512\n",
            "building document-term matrix... this may take a few moments...\n",
            "rows: 1-9000\n",
            "computing log-count ratios...\n",
            "done.\n",
            "simulating training for different learning rates... this may take a few moments...\n",
            "Epoch 1/10\n",
            "563/563 [==============================] - 3s 4ms/step - loss: 0.6961 - accuracy: 0.5010\n",
            "Epoch 2/10\n",
            "563/563 [==============================] - 3s 5ms/step - loss: 0.6944 - accuracy: 0.5061\n",
            "Epoch 3/10\n",
            "563/563 [==============================] - 2s 4ms/step - loss: 0.6860 - accuracy: 0.5353\n",
            "Epoch 4/10\n",
            "563/563 [==============================] - 2s 4ms/step - loss: 0.6461 - accuracy: 0.6338\n",
            "Epoch 5/10\n",
            "563/563 [==============================] - 2s 4ms/step - loss: 0.5237 - accuracy: 0.8042\n",
            "Epoch 6/10\n",
            "563/563 [==============================] - 2s 4ms/step - loss: 0.3364 - accuracy: 0.9026\n",
            "Epoch 7/10\n",
            "563/563 [==============================] - 3s 5ms/step - loss: 0.2301 - accuracy: 0.9207\n",
            "Epoch 8/10\n",
            "563/563 [==============================] - 3s 6ms/step - loss: 0.5682 - accuracy: 0.8883\n",
            "Epoch 9/10\n",
            "563/563 [==============================] - 0s 157us/step - loss: 1.0830 - accuracy: 0.9025\n",
            "\n",
            "\n",
            "done.\n",
            "Please invoke the Learner.lr_plot() method to visually inspect the loss plot to help identify the maximal learning rate associated with falling loss.\n"
          ]
        },
        {
          "output_type": "display_data",
          "data": {
            "text/plain": [
              "<Figure size 640x480 with 1 Axes>"
            ],
            "image/png": "[encoded data removed]"
          },
          "metadata": {}
        },
        {
          "output_type": "stream",
          "name": "stdout",
          "text": [
            "Optimal LR: 0.00044567944132722914\n",
            "\n",
            "\n",
            "begin training using triangular learning rate policy with max lr of 0.00044567944...\n",
            "Epoch 1/12\n",
            "563/563 [==============================] - 3s 5ms/step - loss: 0.5970 - accuracy: 0.6932 - val_loss: 0.5376 - val_accuracy: 0.7700\n",
            "Epoch 2/12\n",
            "563/563 [==============================] - 3s 6ms/step - loss: 0.4748 - accuracy: 0.8482 - val_loss: 0.4680 - val_accuracy: 0.8230\n",
            "Epoch 3/12\n",
            "563/563 [==============================] - 3s 6ms/step - loss: 0.4080 - accuracy: 0.8877 - val_loss: 0.4254 - val_accuracy: 0.8540\n",
            "Epoch 4/12\n",
            "563/563 [==============================] - 3s 5ms/step - loss: 0.3632 - accuracy: 0.9022 - val_loss: 0.3962 - val_accuracy: 0.8710\n",
            "Epoch 5/12\n",
            "563/563 [==============================] - 3s 5ms/step - loss: 0.3306 - accuracy: 0.9123 - val_loss: 0.3754 - val_accuracy: 0.8770\n",
            "Epoch 6/12\n",
            "563/563 [==============================] - 3s 5ms/step - loss: 0.3054 - accuracy: 0.9194 - val_loss: 0.3598 - val_accuracy: 0.8790\n",
            "Epoch 7/12\n",
            "563/563 [==============================] - 3s 6ms/step - loss: 0.2848 - accuracy: 0.9233 - val_loss: 0.3475 - val_accuracy: 0.8770\n",
            "Epoch 8/12\n",
            "563/563 [==============================] - 3s 5ms/step - loss: 0.2681 - accuracy: 0.9270 - val_loss: 0.3375 - val_accuracy: 0.8780\n",
            "Epoch 9/12\n",
            "563/563 [==============================] - 3s 5ms/step - loss: 0.2537 - accuracy: 0.9327 - val_loss: 0.3309 - val_accuracy: 0.8750\n",
            "Epoch 10/12\n",
            "563/563 [==============================] - 3s 5ms/step - loss: 0.2413 - accuracy: 0.9353 - val_loss: 0.3252 - val_accuracy: 0.8790\n",
            "Epoch 11/12\n",
            "563/563 [==============================] - 4s 7ms/step - loss: 0.2304 - accuracy: 0.9384 - val_loss: 0.3205 - val_accuracy: 0.8810\n",
            "Epoch 12/12\n",
            "563/563 [==============================] - 3s 5ms/step - loss: 0.2205 - accuracy: 0.9413 - val_loss: 0.3167 - val_accuracy: 0.8790\n",
            "Weights from best epoch have been loaded into model.\n"
          ]
        },
        {
          "output_type": "stream",
          "name": "stderr",
          "text": [
            "/usr/local/lib/python3.10/dist-packages/tf_keras/src/engine/training.py:3098: UserWarning: You are saving your model as an HDF5 file via `model.save()`. This file format is considered legacy. We recommend using instead the native TF-Keras format, e.g. `model.save('my_model.keras')`.\n",
            "  saving_api.save_model(\n"
          ]
        }
      ],
      "source": [
        "nbsvm_learner = train_with_model('nbsvm')\n",
        "learners['nbsvm'] = nbsvm_learner"
      ]
    },
    {
      "cell_type": "code",
      "execution_count": 38,
      "metadata": {
        "id": "DLbT5MMlo19W",
        "colab": {
          "base_uri": "https://localhost:8080/",
          "height": 1000
        },
        "outputId": "f9186751-3021-441a-a4a5-ce78147f01f9"
      },
      "outputs": [
        {
          "output_type": "stream",
          "name": "stdout",
          "text": [
            "Is Multi-Label? False\n",
            "compiling word ID features...\n",
            "maxlen is 512\n",
            "done.\n",
            "simulating training for different learning rates... this may take a few moments...\n",
            "Epoch 1/10\n",
            "563/563 [==============================] - 3s 4ms/step - loss: 0.6953 - accuracy: 0.5106\n",
            "Epoch 2/10\n",
            "563/563 [==============================] - 2s 4ms/step - loss: 0.6937 - accuracy: 0.5199\n",
            "Epoch 3/10\n",
            "563/563 [==============================] - 2s 4ms/step - loss: 0.6864 - accuracy: 0.5622\n",
            "Epoch 4/10\n",
            "563/563 [==============================] - 2s 4ms/step - loss: 0.6565 - accuracy: 0.6471\n",
            "Epoch 5/10\n",
            "563/563 [==============================] - 3s 4ms/step - loss: 0.5649 - accuracy: 0.7798\n",
            "Epoch 6/10\n",
            "563/563 [==============================] - 3s 5ms/step - loss: 0.3933 - accuracy: 0.8720\n",
            "Epoch 7/10\n",
            "563/563 [==============================] - 2s 4ms/step - loss: 0.2868 - accuracy: 0.8960\n",
            "Epoch 8/10\n",
            "563/563 [==============================] - 2s 4ms/step - loss: 1.0634 - accuracy: 0.8426\n",
            "Epoch 9/10\n",
            "563/563 [==============================] - 0s 20us/step - loss: 3.5025 - accuracy: 0.7812\n",
            "\n",
            "\n",
            "done.\n",
            "Please invoke the Learner.lr_plot() method to visually inspect the loss plot to help identify the maximal learning rate associated with falling loss.\n"
          ]
        },
        {
          "output_type": "display_data",
          "data": {
            "text/plain": [
              "<Figure size 640x480 with 1 Axes>"
            ],
            "image/png": "[encoded data removed]"
          },
          "metadata": {}
        },
        {
          "output_type": "stream",
          "name": "stdout",
          "text": [
            "Optimal LR: 0.00019223662093281746\n",
            "\n",
            "\n",
            "begin training using triangular learning rate policy with max lr of 0.00019223662...\n",
            "Epoch 1/12\n",
            "563/563 [==============================] - 4s 7ms/step - loss: 0.6551 - accuracy: 0.6352 - val_loss: 0.6242 - val_accuracy: 0.6790\n",
            "Epoch 2/12\n",
            "563/563 [==============================] - 3s 5ms/step - loss: 0.5966 - accuracy: 0.7512 - val_loss: 0.5830 - val_accuracy: 0.7610\n",
            "Epoch 3/12\n",
            "563/563 [==============================] - 3s 5ms/step - loss: 0.5533 - accuracy: 0.8072 - val_loss: 0.5506 - val_accuracy: 0.7880\n",
            "Epoch 4/12\n",
            "563/563 [==============================] - 3s 5ms/step - loss: 0.5182 - accuracy: 0.8316 - val_loss: 0.5243 - val_accuracy: 0.8170\n",
            "Epoch 5/12\n",
            "563/563 [==============================] - 3s 5ms/step - loss: 0.4886 - accuracy: 0.8500 - val_loss: 0.5021 - val_accuracy: 0.8290\n",
            "Epoch 6/12\n",
            "563/563 [==============================] - 3s 6ms/step - loss: 0.4632 - accuracy: 0.8614 - val_loss: 0.4832 - val_accuracy: 0.8310\n",
            "Epoch 7/12\n",
            "563/563 [==============================] - 3s 5ms/step - loss: 0.4413 - accuracy: 0.8702 - val_loss: 0.4673 - val_accuracy: 0.8300\n",
            "Epoch 8/12\n",
            "563/563 [==============================] - 3s 5ms/step - loss: 0.4218 - accuracy: 0.8778 - val_loss: 0.4529 - val_accuracy: 0.8360\n",
            "Epoch 9/12\n",
            "563/563 [==============================] - 3s 5ms/step - loss: 0.4046 - accuracy: 0.8830 - val_loss: 0.4408 - val_accuracy: 0.8440\n",
            "Epoch 10/12\n",
            "563/563 [==============================] - 4s 7ms/step - loss: 0.3891 - accuracy: 0.8888 - val_loss: 0.4295 - val_accuracy: 0.8520\n",
            "Epoch 11/12\n",
            "563/563 [==============================] - 3s 5ms/step - loss: 0.3750 - accuracy: 0.8950 - val_loss: 0.4200 - val_accuracy: 0.8590\n",
            "Epoch 12/12\n",
            "563/563 [==============================] - 3s 5ms/step - loss: 0.3620 - accuracy: 0.9002 - val_loss: 0.4111 - val_accuracy: 0.8640\n",
            "Weights from best epoch have been loaded into model.\n"
          ]
        },
        {
          "output_type": "stream",
          "name": "stderr",
          "text": [
            "/usr/local/lib/python3.10/dist-packages/tf_keras/src/engine/training.py:3098: UserWarning: You are saving your model as an HDF5 file via `model.save()`. This file format is considered legacy. We recommend using instead the native TF-Keras format, e.g. `model.save('my_model.keras')`.\n",
            "  saving_api.save_model(\n"
          ]
        }
      ],
      "source": [
        "logreg_learner = train_with_model('logreg')\n",
        "learners['logreg'] = logreg_learner"
      ]
    },
    {
      "cell_type": "markdown",
      "metadata": {
        "id": "kPIIRpmpMp_N"
      },
      "source": [
        "# Validation"
      ]
    },
    {
      "cell_type": "code",
      "execution_count": 39,
      "metadata": {
        "id": "mQ7e3KPeqGip",
        "colab": {
          "base_uri": "https://localhost:8080/"
        },
        "outputId": "3c548794-58d2-4bc9-97f5-69badcbb71b7"
      },
      "outputs": [
        {
          "output_type": "stream",
          "name": "stdout",
          "text": [
            "Validation for model fasttext\n",
            "32/32 [==============================] - 0s 2ms/step\n",
            "              precision    recall  f1-score   support\n",
            "\n",
            "           0       0.87      0.87      0.87       501\n",
            "           1       0.87      0.87      0.87       499\n",
            "\n",
            "    accuracy                           0.87      1000\n",
            "   macro avg       0.87      0.87      0.87      1000\n",
            "weighted avg       0.87      0.87      0.87      1000\n",
            "\n",
            "Validation for model nbsvm\n",
            "32/32 [==============================] - 0s 2ms/step\n",
            "              precision    recall  f1-score   support\n",
            "\n",
            "           0       0.91      0.84      0.87       501\n",
            "           1       0.85      0.92      0.88       499\n",
            "\n",
            "    accuracy                           0.88      1000\n",
            "   macro avg       0.88      0.88      0.88      1000\n",
            "weighted avg       0.88      0.88      0.88      1000\n",
            "\n",
            "Validation for model logreg\n",
            "32/32 [==============================] - 0s 1ms/step\n",
            "              precision    recall  f1-score   support\n",
            "\n",
            "           0       0.90      0.81      0.86       501\n",
            "           1       0.83      0.91      0.87       499\n",
            "\n",
            "    accuracy                           0.86      1000\n",
            "   macro avg       0.87      0.86      0.86      1000\n",
            "weighted avg       0.87      0.86      0.86      1000\n",
            "\n"
          ]
        }
      ],
      "source": [
        "for model in learners:\n",
        "  print(f\"Validation for model {model}\")\n",
        "  learners[model].validate(val_data=val, print_report=True)"
      ]
    },
    {
      "cell_type": "markdown",
      "source": [
        "# Conclusions"
      ],
      "metadata": {
        "id": "9cCIiAQNinnq"
      }
    }
  ],
  "metadata": {
    "accelerator": "GPU",
    "colab": {
      "gpuType": "T4",
      "provenance": [],
      "authorship_tag": "ABX9TyPFvcwoBIIRtWo17ez+iUm3",
      "include_colab_link": true
    },
    "kernelspec": {
      "display_name": "Python 3",
      "name": "python3"
    },
    "language_info": {
      "name": "python"
    },
    "widgets": {
      "application/vnd.jupyter.widget-state+json": {
        "a0f024283adf4358b5c2374471fc1148": {
          "model_module": "@jupyter-widgets/controls",
          "model_name": "HBoxModel",
          "model_module_version": "1.5.0",
          "state": {
            "_dom_classes": [],
            "_model_module": "@jupyter-widgets/controls",
            "_model_module_version": "1.5.0",
            "_model_name": "HBoxModel",
            "_view_count": null,
            "_view_module": "@jupyter-widgets/controls",
            "_view_module_version": "1.5.0",
            "_view_name": "HBoxView",
            "box_style": "",
            "children": [
              "IPY_MODEL_51cea531d6fd413497273b9b25c58a6a",
              "IPY_MODEL_41b08650294e4b39a4741c7780c8ed23",
              "IPY_MODEL_f684d31fa716443eb42adb0e1edce816"
            ],
            "layout": "IPY_MODEL_8c7970eb76964f029b0cb0fddc253ad8"
          }
        },
        "51cea531d6fd413497273b9b25c58a6a": {
          "model_module": "@jupyter-widgets/controls",
          "model_name": "HTMLModel",
          "model_module_version": "1.5.0",
          "state": {
            "_dom_classes": [],
            "_model_module": "@jupyter-widgets/controls",
            "_model_module_version": "1.5.0",
            "_model_name": "HTMLModel",
            "_view_count": null,
            "_view_module": "@jupyter-widgets/controls",
            "_view_module_version": "1.5.0",
            "_view_name": "HTMLView",
            "description": "",
            "description_tooltip": null,
            "layout": "IPY_MODEL_8d6bdf98a1d6481bae643c01a23e102d",
            "placeholder": "​",
            "style": "IPY_MODEL_72848a49abb94a3a885f4743d3f8e370",
            "value": "config.json: 100%"
          }
        },
        "41b08650294e4b39a4741c7780c8ed23": {
          "model_module": "@jupyter-widgets/controls",
          "model_name": "FloatProgressModel",
          "model_module_version": "1.5.0",
          "state": {
            "_dom_classes": [],
            "_model_module": "@jupyter-widgets/controls",
            "_model_module_version": "1.5.0",
            "_model_name": "FloatProgressModel",
            "_view_count": null,
            "_view_module": "@jupyter-widgets/controls",
            "_view_module_version": "1.5.0",
            "_view_name": "ProgressView",
            "bar_style": "success",
            "description": "",
            "description_tooltip": null,
            "layout": "IPY_MODEL_a9611d5bb1234de3898bf63395f90d9d",
            "max": 483,
            "min": 0,
            "orientation": "horizontal",
            "style": "IPY_MODEL_6e33d0dbd2514d47a4f532119efd63d1",
            "value": 483
          }
        },
        "f684d31fa716443eb42adb0e1edce816": {
          "model_module": "@jupyter-widgets/controls",
          "model_name": "HTMLModel",
          "model_module_version": "1.5.0",
          "state": {
            "_dom_classes": [],
            "_model_module": "@jupyter-widgets/controls",
            "_model_module_version": "1.5.0",
            "_model_name": "HTMLModel",
            "_view_count": null,
            "_view_module": "@jupyter-widgets/controls",
            "_view_module_version": "1.5.0",
            "_view_name": "HTMLView",
            "description": "",
            "description_tooltip": null,
            "layout": "IPY_MODEL_7c82404bd2e444b19d149a2a1300a553",
            "placeholder": "​",
            "style": "IPY_MODEL_644a3e5971284c4cbac6d8a09f648a22",
            "value": " 483/483 [00:00&lt;00:00, 5.21kB/s]"
          }
        },
        "8c7970eb76964f029b0cb0fddc253ad8": {
          "model_module": "@jupyter-widgets/base",
          "model_name": "LayoutModel",
          "model_module_version": "1.2.0",
          "state": {
            "_model_module": "@jupyter-widgets/base",
            "_model_module_version": "1.2.0",
            "_model_name": "LayoutModel",
            "_view_count": null,
            "_view_module": "@jupyter-widgets/base",
            "_view_module_version": "1.2.0",
            "_view_name": "LayoutView",
            "align_content": null,
            "align_items": null,
            "align_self": null,
            "border": null,
            "bottom": null,
            "display": null,
            "flex": null,
            "flex_flow": null,
            "grid_area": null,
            "grid_auto_columns": null,
            "grid_auto_flow": null,
            "grid_auto_rows": null,
            "grid_column": null,
            "grid_gap": null,
            "grid_row": null,
            "grid_template_areas": null,
            "grid_template_columns": null,
            "grid_template_rows": null,
            "height": null,
            "justify_content": null,
            "justify_items": null,
            "left": null,
            "margin": null,
            "max_height": null,
            "max_width": null,
            "min_height": null,
            "min_width": null,
            "object_fit": null,
            "object_position": null,
            "order": null,
            "overflow": null,
            "overflow_x": null,
            "overflow_y": null,
            "padding": null,
            "right": null,
            "top": null,
            "visibility": null,
            "width": null
          }
        },
        "8d6bdf98a1d6481bae643c01a23e102d": {
          "model_module": "@jupyter-widgets/base",
          "model_name": "LayoutModel",
          "model_module_version": "1.2.0",
          "state": {
            "_model_module": "@jupyter-widgets/base",
            "_model_module_version": "1.2.0",
            "_model_name": "LayoutModel",
            "_view_count": null,
            "_view_module": "@jupyter-widgets/base",
            "_view_module_version": "1.2.0",
            "_view_name": "LayoutView",
            "align_content": null,
            "align_items": null,
            "align_self": null,
            "border": null,
            "bottom": null,
            "display": null,
            "flex": null,
            "flex_flow": null,
            "grid_area": null,
            "grid_auto_columns": null,
            "grid_auto_flow": null,
            "grid_auto_rows": null,
            "grid_column": null,
            "grid_gap": null,
            "grid_row": null,
            "grid_template_areas": null,
            "grid_template_columns": null,
            "grid_template_rows": null,
            "height": null,
            "justify_content": null,
            "justify_items": null,
            "left": null,
            "margin": null,
            "max_height": null,
            "max_width": null,
            "min_height": null,
            "min_width": null,
            "object_fit": null,
            "object_position": null,
            "order": null,
            "overflow": null,
            "overflow_x": null,
            "overflow_y": null,
            "padding": null,
            "right": null,
            "top": null,
            "visibility": null,
            "width": null
          }
        },
        "72848a49abb94a3a885f4743d3f8e370": {
          "model_module": "@jupyter-widgets/controls",
          "model_name": "DescriptionStyleModel",
          "model_module_version": "1.5.0",
          "state": {
            "_model_module": "@jupyter-widgets/controls",
            "_model_module_version": "1.5.0",
            "_model_name": "DescriptionStyleModel",
            "_view_count": null,
            "_view_module": "@jupyter-widgets/base",
            "_view_module_version": "1.2.0",
            "_view_name": "StyleView",
            "description_width": ""
          }
        },
        "a9611d5bb1234de3898bf63395f90d9d": {
          "model_module": "@jupyter-widgets/base",
          "model_name": "LayoutModel",
          "model_module_version": "1.2.0",
          "state": {
            "_model_module": "@jupyter-widgets/base",
            "_model_module_version": "1.2.0",
            "_model_name": "LayoutModel",
            "_view_count": null,
            "_view_module": "@jupyter-widgets/base",
            "_view_module_version": "1.2.0",
            "_view_name": "LayoutView",
            "align_content": null,
            "align_items": null,
            "align_self": null,
            "border": null,
            "bottom": null,
            "display": null,
            "flex": null,
            "flex_flow": null,
            "grid_area": null,
            "grid_auto_columns": null,
            "grid_auto_flow": null,
            "grid_auto_rows": null,
            "grid_column": null,
            "grid_gap": null,
            "grid_row": null,
            "grid_template_areas": null,
            "grid_template_columns": null,
            "grid_template_rows": null,
            "height": null,
            "justify_content": null,
            "justify_items": null,
            "left": null,
            "margin": null,
            "max_height": null,
            "max_width": null,
            "min_height": null,
            "min_width": null,
            "object_fit": null,
            "object_position": null,
            "order": null,
            "overflow": null,
            "overflow_x": null,
            "overflow_y": null,
            "padding": null,
            "right": null,
            "top": null,
            "visibility": null,
            "width": null
          }
        },
        "6e33d0dbd2514d47a4f532119efd63d1": {
          "model_module": "@jupyter-widgets/controls",
          "model_name": "ProgressStyleModel",
          "model_module_version": "1.5.0",
          "state": {
            "_model_module": "@jupyter-widgets/controls",
            "_model_module_version": "1.5.0",
            "_model_name": "ProgressStyleModel",
            "_view_count": null,
            "_view_module": "@jupyter-widgets/base",
            "_view_module_version": "1.2.0",
            "_view_name": "StyleView",
            "bar_color": null,
            "description_width": ""
          }
        },
        "7c82404bd2e444b19d149a2a1300a553": {
          "model_module": "@jupyter-widgets/base",
          "model_name": "LayoutModel",
          "model_module_version": "1.2.0",
          "state": {
            "_model_module": "@jupyter-widgets/base",
            "_model_module_version": "1.2.0",
            "_model_name": "LayoutModel",
            "_view_count": null,
            "_view_module": "@jupyter-widgets/base",
            "_view_module_version": "1.2.0",
            "_view_name": "LayoutView",
            "align_content": null,
            "align_items": null,
            "align_self": null,
            "border": null,
            "bottom": null,
            "display": null,
            "flex": null,
            "flex_flow": null,
            "grid_area": null,
            "grid_auto_columns": null,
            "grid_auto_flow": null,
            "grid_auto_rows": null,
            "grid_column": null,
            "grid_gap": null,
            "grid_row": null,
            "grid_template_areas": null,
            "grid_template_columns": null,
            "grid_template_rows": null,
            "height": null,
            "justify_content": null,
            "justify_items": null,
            "left": null,
            "margin": null,
            "max_height": null,
            "max_width": null,
            "min_height": null,
            "min_width": null,
            "object_fit": null,
            "object_position": null,
            "order": null,
            "overflow": null,
            "overflow_x": null,
            "overflow_y": null,
            "padding": null,
            "right": null,
            "top": null,
            "visibility": null,
            "width": null
          }
        },
        "644a3e5971284c4cbac6d8a09f648a22": {
          "model_module": "@jupyter-widgets/controls",
          "model_name": "DescriptionStyleModel",
          "model_module_version": "1.5.0",
          "state": {
            "_model_module": "@jupyter-widgets/controls",
            "_model_module_version": "1.5.0",
            "_model_name": "DescriptionStyleModel",
            "_view_count": null,
            "_view_module": "@jupyter-widgets/base",
            "_view_module_version": "1.2.0",
            "_view_name": "StyleView",
            "description_width": ""
          }
        },
        "7591d795998143d0bba99fda832ec630": {
          "model_module": "@jupyter-widgets/controls",
          "model_name": "HBoxModel",
          "model_module_version": "1.5.0",
          "state": {
            "_dom_classes": [],
            "_model_module": "@jupyter-widgets/controls",
            "_model_module_version": "1.5.0",
            "_model_name": "HBoxModel",
            "_view_count": null,
            "_view_module": "@jupyter-widgets/controls",
            "_view_module_version": "1.5.0",
            "_view_name": "HBoxView",
            "box_style": "",
            "children": [
              "IPY_MODEL_03a5f598299346c5b40231274bcc6d86",
              "IPY_MODEL_8d16bc3602e24cdca8b417e6355dbbdf",
              "IPY_MODEL_d3df80ccf79843ec81be4254e8298e22"
            ],
            "layout": "IPY_MODEL_580911189a714188be8b37bad34b9b15"
          }
        },
        "03a5f598299346c5b40231274bcc6d86": {
          "model_module": "@jupyter-widgets/controls",
          "model_name": "HTMLModel",
          "model_module_version": "1.5.0",
          "state": {
            "_dom_classes": [],
            "_model_module": "@jupyter-widgets/controls",
            "_model_module_version": "1.5.0",
            "_model_name": "HTMLModel",
            "_view_count": null,
            "_view_module": "@jupyter-widgets/controls",
            "_view_module_version": "1.5.0",
            "_view_name": "HTMLView",
            "description": "",
            "description_tooltip": null,
            "layout": "IPY_MODEL_d2e14da11c3e443a9c8f0b09933ee0e6",
            "placeholder": "​",
            "style": "IPY_MODEL_2c96d14ba9e64df38a234721fbac4d22",
            "value": "model.safetensors: 100%"
          }
        },
        "8d16bc3602e24cdca8b417e6355dbbdf": {
          "model_module": "@jupyter-widgets/controls",
          "model_name": "FloatProgressModel",
          "model_module_version": "1.5.0",
          "state": {
            "_dom_classes": [],
            "_model_module": "@jupyter-widgets/controls",
            "_model_module_version": "1.5.0",
            "_model_name": "FloatProgressModel",
            "_view_count": null,
            "_view_module": "@jupyter-widgets/controls",
            "_view_module_version": "1.5.0",
            "_view_name": "ProgressView",
            "bar_style": "success",
            "description": "",
            "description_tooltip": null,
            "layout": "IPY_MODEL_cceb3bd7d5cc40d080d177f8f996d7f9",
            "max": 267954768,
            "min": 0,
            "orientation": "horizontal",
            "style": "IPY_MODEL_ef74e284657f496d982110783b5dc536",
            "value": 267954768
          }
        },
        "d3df80ccf79843ec81be4254e8298e22": {
          "model_module": "@jupyter-widgets/controls",
          "model_name": "HTMLModel",
          "model_module_version": "1.5.0",
          "state": {
            "_dom_classes": [],
            "_model_module": "@jupyter-widgets/controls",
            "_model_module_version": "1.5.0",
            "_model_name": "HTMLModel",
            "_view_count": null,
            "_view_module": "@jupyter-widgets/controls",
            "_view_module_version": "1.5.0",
            "_view_name": "HTMLView",
            "description": "",
            "description_tooltip": null,
            "layout": "IPY_MODEL_6d0ebad7e50841938ffb67b532492dce",
            "placeholder": "​",
            "style": "IPY_MODEL_50382f31a5684da6b908fbc7fbc1313a",
            "value": " 268M/268M [00:03&lt;00:00, 93.2MB/s]"
          }
        },
        "580911189a714188be8b37bad34b9b15": {
          "model_module": "@jupyter-widgets/base",
          "model_name": "LayoutModel",
          "model_module_version": "1.2.0",
          "state": {
            "_model_module": "@jupyter-widgets/base",
            "_model_module_version": "1.2.0",
            "_model_name": "LayoutModel",
            "_view_count": null,
            "_view_module": "@jupyter-widgets/base",
            "_view_module_version": "1.2.0",
            "_view_name": "LayoutView",
            "align_content": null,
            "align_items": null,
            "align_self": null,
            "border": null,
            "bottom": null,
            "display": null,
            "flex": null,
            "flex_flow": null,
            "grid_area": null,
            "grid_auto_columns": null,
            "grid_auto_flow": null,
            "grid_auto_rows": null,
            "grid_column": null,
            "grid_gap": null,
            "grid_row": null,
            "grid_template_areas": null,
            "grid_template_columns": null,
            "grid_template_rows": null,
            "height": null,
            "justify_content": null,
            "justify_items": null,
            "left": null,
            "margin": null,
            "max_height": null,
            "max_width": null,
            "min_height": null,
            "min_width": null,
            "object_fit": null,
            "object_position": null,
            "order": null,
            "overflow": null,
            "overflow_x": null,
            "overflow_y": null,
            "padding": null,
            "right": null,
            "top": null,
            "visibility": null,
            "width": null
          }
        },
        "d2e14da11c3e443a9c8f0b09933ee0e6": {
          "model_module": "@jupyter-widgets/base",
          "model_name": "LayoutModel",
          "model_module_version": "1.2.0",
          "state": {
            "_model_module": "@jupyter-widgets/base",
            "_model_module_version": "1.2.0",
            "_model_name": "LayoutModel",
            "_view_count": null,
            "_view_module": "@jupyter-widgets/base",
            "_view_module_version": "1.2.0",
            "_view_name": "LayoutView",
            "align_content": null,
            "align_items": null,
            "align_self": null,
            "border": null,
            "bottom": null,
            "display": null,
            "flex": null,
            "flex_flow": null,
            "grid_area": null,
            "grid_auto_columns": null,
            "grid_auto_flow": null,
            "grid_auto_rows": null,
            "grid_column": null,
            "grid_gap": null,
            "grid_row": null,
            "grid_template_areas": null,
            "grid_template_columns": null,
            "grid_template_rows": null,
            "height": null,
            "justify_content": null,
            "justify_items": null,
            "left": null,
            "margin": null,
            "max_height": null,
            "max_width": null,
            "min_height": null,
            "min_width": null,
            "object_fit": null,
            "object_position": null,
            "order": null,
            "overflow": null,
            "overflow_x": null,
            "overflow_y": null,
            "padding": null,
            "right": null,
            "top": null,
            "visibility": null,
            "width": null
          }
        },
        "2c96d14ba9e64df38a234721fbac4d22": {
          "model_module": "@jupyter-widgets/controls",
          "model_name": "DescriptionStyleModel",
          "model_module_version": "1.5.0",
          "state": {
            "_model_module": "@jupyter-widgets/controls",
            "_model_module_version": "1.5.0",
            "_model_name": "DescriptionStyleModel",
            "_view_count": null,
            "_view_module": "@jupyter-widgets/base",
            "_view_module_version": "1.2.0",
            "_view_name": "StyleView",
            "description_width": ""
          }
        },
        "cceb3bd7d5cc40d080d177f8f996d7f9": {
          "model_module": "@jupyter-widgets/base",
          "model_name": "LayoutModel",
          "model_module_version": "1.2.0",
          "state": {
            "_model_module": "@jupyter-widgets/base",
            "_model_module_version": "1.2.0",
            "_model_name": "LayoutModel",
            "_view_count": null,
            "_view_module": "@jupyter-widgets/base",
            "_view_module_version": "1.2.0",
            "_view_name": "LayoutView",
            "align_content": null,
            "align_items": null,
            "align_self": null,
            "border": null,
            "bottom": null,
            "display": null,
            "flex": null,
            "flex_flow": null,
            "grid_area": null,
            "grid_auto_columns": null,
            "grid_auto_flow": null,
            "grid_auto_rows": null,
            "grid_column": null,
            "grid_gap": null,
            "grid_row": null,
            "grid_template_areas": null,
            "grid_template_columns": null,
            "grid_template_rows": null,
            "height": null,
            "justify_content": null,
            "justify_items": null,
            "left": null,
            "margin": null,
            "max_height": null,
            "max_width": null,
            "min_height": null,
            "min_width": null,
            "object_fit": null,
            "object_position": null,
            "order": null,
            "overflow": null,
            "overflow_x": null,
            "overflow_y": null,
            "padding": null,
            "right": null,
            "top": null,
            "visibility": null,
            "width": null
          }
        },
        "ef74e284657f496d982110783b5dc536": {
          "model_module": "@jupyter-widgets/controls",
          "model_name": "ProgressStyleModel",
          "model_module_version": "1.5.0",
          "state": {
            "_model_module": "@jupyter-widgets/controls",
            "_model_module_version": "1.5.0",
            "_model_name": "ProgressStyleModel",
            "_view_count": null,
            "_view_module": "@jupyter-widgets/base",
            "_view_module_version": "1.2.0",
            "_view_name": "StyleView",
            "bar_color": null,
            "description_width": ""
          }
        },
        "6d0ebad7e50841938ffb67b532492dce": {
          "model_module": "@jupyter-widgets/base",
          "model_name": "LayoutModel",
          "model_module_version": "1.2.0",
          "state": {
            "_model_module": "@jupyter-widgets/base",
            "_model_module_version": "1.2.0",
            "_model_name": "LayoutModel",
            "_view_count": null,
            "_view_module": "@jupyter-widgets/base",
            "_view_module_version": "1.2.0",
            "_view_name": "LayoutView",
            "align_content": null,
            "align_items": null,
            "align_self": null,
            "border": null,
            "bottom": null,
            "display": null,
            "flex": null,
            "flex_flow": null,
            "grid_area": null,
            "grid_auto_columns": null,
            "grid_auto_flow": null,
            "grid_auto_rows": null,
            "grid_column": null,
            "grid_gap": null,
            "grid_row": null,
            "grid_template_areas": null,
            "grid_template_columns": null,
            "grid_template_rows": null,
            "height": null,
            "justify_content": null,
            "justify_items": null,
            "left": null,
            "margin": null,
            "max_height": null,
            "max_width": null,
            "min_height": null,
            "min_width": null,
            "object_fit": null,
            "object_position": null,
            "order": null,
            "overflow": null,
            "overflow_x": null,
            "overflow_y": null,
            "padding": null,
            "right": null,
            "top": null,
            "visibility": null,
            "width": null
          }
        },
        "50382f31a5684da6b908fbc7fbc1313a": {
          "model_module": "@jupyter-widgets/controls",
          "model_name": "DescriptionStyleModel",
          "model_module_version": "1.5.0",
          "state": {
            "_model_module": "@jupyter-widgets/controls",
            "_model_module_version": "1.5.0",
            "_model_name": "DescriptionStyleModel",
            "_view_count": null,
            "_view_module": "@jupyter-widgets/base",
            "_view_module_version": "1.2.0",
            "_view_name": "StyleView",
            "description_width": ""
          }
        },
        "05b4845e8a51423d88092e8891c610fe": {
          "model_module": "@jupyter-widgets/controls",
          "model_name": "HBoxModel",
          "model_module_version": "1.5.0",
          "state": {
            "_dom_classes": [],
            "_model_module": "@jupyter-widgets/controls",
            "_model_module_version": "1.5.0",
            "_model_name": "HBoxModel",
            "_view_count": null,
            "_view_module": "@jupyter-widgets/controls",
            "_view_module_version": "1.5.0",
            "_view_name": "HBoxView",
            "box_style": "",
            "children": [
              "IPY_MODEL_48198656a9674d60b2a52ac640a65a0f",
              "IPY_MODEL_d6a265eaf5aa4b65aee68b4d4d7b7514",
              "IPY_MODEL_099d8db5dd3b4226b1da0c7834a5b507"
            ],
            "layout": "IPY_MODEL_704e4a075a574c3daaec9c1e2d5841ef"
          }
        },
        "48198656a9674d60b2a52ac640a65a0f": {
          "model_module": "@jupyter-widgets/controls",
          "model_name": "HTMLModel",
          "model_module_version": "1.5.0",
          "state": {
            "_dom_classes": [],
            "_model_module": "@jupyter-widgets/controls",
            "_model_module_version": "1.5.0",
            "_model_name": "HTMLModel",
            "_view_count": null,
            "_view_module": "@jupyter-widgets/controls",
            "_view_module_version": "1.5.0",
            "_view_name": "HTMLView",
            "description": "",
            "description_tooltip": null,
            "layout": "IPY_MODEL_e096384d511d4fdb8684834bab94444e",
            "placeholder": "​",
            "style": "IPY_MODEL_a6b5eb77eec3458fb6292a842bfa4adb",
            "value": "tokenizer_config.json: 100%"
          }
        },
        "d6a265eaf5aa4b65aee68b4d4d7b7514": {
          "model_module": "@jupyter-widgets/controls",
          "model_name": "FloatProgressModel",
          "model_module_version": "1.5.0",
          "state": {
            "_dom_classes": [],
            "_model_module": "@jupyter-widgets/controls",
            "_model_module_version": "1.5.0",
            "_model_name": "FloatProgressModel",
            "_view_count": null,
            "_view_module": "@jupyter-widgets/controls",
            "_view_module_version": "1.5.0",
            "_view_name": "ProgressView",
            "bar_style": "success",
            "description": "",
            "description_tooltip": null,
            "layout": "IPY_MODEL_d32a80cf64f14ab0b3889ae406c8ab26",
            "max": 28,
            "min": 0,
            "orientation": "horizontal",
            "style": "IPY_MODEL_d6735a588f2a4d27a97539eff9a4b7f8",
            "value": 28
          }
        },
        "099d8db5dd3b4226b1da0c7834a5b507": {
          "model_module": "@jupyter-widgets/controls",
          "model_name": "HTMLModel",
          "model_module_version": "1.5.0",
          "state": {
            "_dom_classes": [],
            "_model_module": "@jupyter-widgets/controls",
            "_model_module_version": "1.5.0",
            "_model_name": "HTMLModel",
            "_view_count": null,
            "_view_module": "@jupyter-widgets/controls",
            "_view_module_version": "1.5.0",
            "_view_name": "HTMLView",
            "description": "",
            "description_tooltip": null,
            "layout": "IPY_MODEL_6adbcddb5c79487b82b88afed9b3bf33",
            "placeholder": "​",
            "style": "IPY_MODEL_a6b99d90b67b4c72abc81e24e4e87657",
            "value": " 28.0/28.0 [00:00&lt;00:00, 1.22kB/s]"
          }
        },
        "704e4a075a574c3daaec9c1e2d5841ef": {
          "model_module": "@jupyter-widgets/base",
          "model_name": "LayoutModel",
          "model_module_version": "1.2.0",
          "state": {
            "_model_module": "@jupyter-widgets/base",
            "_model_module_version": "1.2.0",
            "_model_name": "LayoutModel",
            "_view_count": null,
            "_view_module": "@jupyter-widgets/base",
            "_view_module_version": "1.2.0",
            "_view_name": "LayoutView",
            "align_content": null,
            "align_items": null,
            "align_self": null,
            "border": null,
            "bottom": null,
            "display": null,
            "flex": null,
            "flex_flow": null,
            "grid_area": null,
            "grid_auto_columns": null,
            "grid_auto_flow": null,
            "grid_auto_rows": null,
            "grid_column": null,
            "grid_gap": null,
            "grid_row": null,
            "grid_template_areas": null,
            "grid_template_columns": null,
            "grid_template_rows": null,
            "height": null,
            "justify_content": null,
            "justify_items": null,
            "left": null,
            "margin": null,
            "max_height": null,
            "max_width": null,
            "min_height": null,
            "min_width": null,
            "object_fit": null,
            "object_position": null,
            "order": null,
            "overflow": null,
            "overflow_x": null,
            "overflow_y": null,
            "padding": null,
            "right": null,
            "top": null,
            "visibility": null,
            "width": null
          }
        },
        "e096384d511d4fdb8684834bab94444e": {
          "model_module": "@jupyter-widgets/base",
          "model_name": "LayoutModel",
          "model_module_version": "1.2.0",
          "state": {
            "_model_module": "@jupyter-widgets/base",
            "_model_module_version": "1.2.0",
            "_model_name": "LayoutModel",
            "_view_count": null,
            "_view_module": "@jupyter-widgets/base",
            "_view_module_version": "1.2.0",
            "_view_name": "LayoutView",
            "align_content": null,
            "align_items": null,
            "align_self": null,
            "border": null,
            "bottom": null,
            "display": null,
            "flex": null,
            "flex_flow": null,
            "grid_area": null,
            "grid_auto_columns": null,
            "grid_auto_flow": null,
            "grid_auto_rows": null,
            "grid_column": null,
            "grid_gap": null,
            "grid_row": null,
            "grid_template_areas": null,
            "grid_template_columns": null,
            "grid_template_rows": null,
            "height": null,
            "justify_content": null,
            "justify_items": null,
            "left": null,
            "margin": null,
            "max_height": null,
            "max_width": null,
            "min_height": null,
            "min_width": null,
            "object_fit": null,
            "object_position": null,
            "order": null,
            "overflow": null,
            "overflow_x": null,
            "overflow_y": null,
            "padding": null,
            "right": null,
            "top": null,
            "visibility": null,
            "width": null
          }
        },
        "a6b5eb77eec3458fb6292a842bfa4adb": {
          "model_module": "@jupyter-widgets/controls",
          "model_name": "DescriptionStyleModel",
          "model_module_version": "1.5.0",
          "state": {
            "_model_module": "@jupyter-widgets/controls",
            "_model_module_version": "1.5.0",
            "_model_name": "DescriptionStyleModel",
            "_view_count": null,
            "_view_module": "@jupyter-widgets/base",
            "_view_module_version": "1.2.0",
            "_view_name": "StyleView",
            "description_width": ""
          }
        },
        "d32a80cf64f14ab0b3889ae406c8ab26": {
          "model_module": "@jupyter-widgets/base",
          "model_name": "LayoutModel",
          "model_module_version": "1.2.0",
          "state": {
            "_model_module": "@jupyter-widgets/base",
            "_model_module_version": "1.2.0",
            "_model_name": "LayoutModel",
            "_view_count": null,
            "_view_module": "@jupyter-widgets/base",
            "_view_module_version": "1.2.0",
            "_view_name": "LayoutView",
            "align_content": null,
            "align_items": null,
            "align_self": null,
            "border": null,
            "bottom": null,
            "display": null,
            "flex": null,
            "flex_flow": null,
            "grid_area": null,
            "grid_auto_columns": null,
            "grid_auto_flow": null,
            "grid_auto_rows": null,
            "grid_column": null,
            "grid_gap": null,
            "grid_row": null,
            "grid_template_areas": null,
            "grid_template_columns": null,
            "grid_template_rows": null,
            "height": null,
            "justify_content": null,
            "justify_items": null,
            "left": null,
            "margin": null,
            "max_height": null,
            "max_width": null,
            "min_height": null,
            "min_width": null,
            "object_fit": null,
            "object_position": null,
            "order": null,
            "overflow": null,
            "overflow_x": null,
            "overflow_y": null,
            "padding": null,
            "right": null,
            "top": null,
            "visibility": null,
            "width": null
          }
        },
        "d6735a588f2a4d27a97539eff9a4b7f8": {
          "model_module": "@jupyter-widgets/controls",
          "model_name": "ProgressStyleModel",
          "model_module_version": "1.5.0",
          "state": {
            "_model_module": "@jupyter-widgets/controls",
            "_model_module_version": "1.5.0",
            "_model_name": "ProgressStyleModel",
            "_view_count": null,
            "_view_module": "@jupyter-widgets/base",
            "_view_module_version": "1.2.0",
            "_view_name": "StyleView",
            "bar_color": null,
            "description_width": ""
          }
        },
        "6adbcddb5c79487b82b88afed9b3bf33": {
          "model_module": "@jupyter-widgets/base",
          "model_name": "LayoutModel",
          "model_module_version": "1.2.0",
          "state": {
            "_model_module": "@jupyter-widgets/base",
            "_model_module_version": "1.2.0",
            "_model_name": "LayoutModel",
            "_view_count": null,
            "_view_module": "@jupyter-widgets/base",
            "_view_module_version": "1.2.0",
            "_view_name": "LayoutView",
            "align_content": null,
            "align_items": null,
            "align_self": null,
            "border": null,
            "bottom": null,
            "display": null,
            "flex": null,
            "flex_flow": null,
            "grid_area": null,
            "grid_auto_columns": null,
            "grid_auto_flow": null,
            "grid_auto_rows": null,
            "grid_column": null,
            "grid_gap": null,
            "grid_row": null,
            "grid_template_areas": null,
            "grid_template_columns": null,
            "grid_template_rows": null,
            "height": null,
            "justify_content": null,
            "justify_items": null,
            "left": null,
            "margin": null,
            "max_height": null,
            "max_width": null,
            "min_height": null,
            "min_width": null,
            "object_fit": null,
            "object_position": null,
            "order": null,
            "overflow": null,
            "overflow_x": null,
            "overflow_y": null,
            "padding": null,
            "right": null,
            "top": null,
            "visibility": null,
            "width": null
          }
        },
        "a6b99d90b67b4c72abc81e24e4e87657": {
          "model_module": "@jupyter-widgets/controls",
          "model_name": "DescriptionStyleModel",
          "model_module_version": "1.5.0",
          "state": {
            "_model_module": "@jupyter-widgets/controls",
            "_model_module_version": "1.5.0",
            "_model_name": "DescriptionStyleModel",
            "_view_count": null,
            "_view_module": "@jupyter-widgets/base",
            "_view_module_version": "1.2.0",
            "_view_name": "StyleView",
            "description_width": ""
          }
        },
        "9c04c7e8807848fc8d9b757081ab1212": {
          "model_module": "@jupyter-widgets/controls",
          "model_name": "HBoxModel",
          "model_module_version": "1.5.0",
          "state": {
            "_dom_classes": [],
            "_model_module": "@jupyter-widgets/controls",
            "_model_module_version": "1.5.0",
            "_model_name": "HBoxModel",
            "_view_count": null,
            "_view_module": "@jupyter-widgets/controls",
            "_view_module_version": "1.5.0",
            "_view_name": "HBoxView",
            "box_style": "",
            "children": [
              "IPY_MODEL_c19e0880583942788fd5d840bf786330",
              "IPY_MODEL_2b93e290ec7d4105817c3b93bc51887d",
              "IPY_MODEL_221fbe57c9d6488f8bd3b198607fc60b"
            ],
            "layout": "IPY_MODEL_a5eda110615744d8a713fbd4dac4790b"
          }
        },
        "c19e0880583942788fd5d840bf786330": {
          "model_module": "@jupyter-widgets/controls",
          "model_name": "HTMLModel",
          "model_module_version": "1.5.0",
          "state": {
            "_dom_classes": [],
            "_model_module": "@jupyter-widgets/controls",
            "_model_module_version": "1.5.0",
            "_model_name": "HTMLModel",
            "_view_count": null,
            "_view_module": "@jupyter-widgets/controls",
            "_view_module_version": "1.5.0",
            "_view_name": "HTMLView",
            "description": "",
            "description_tooltip": null,
            "layout": "IPY_MODEL_e63477405c724c4791432253c02b434a",
            "placeholder": "​",
            "style": "IPY_MODEL_db1c2586d09b44e5a228120d30707b98",
            "value": "vocab.txt: 100%"
          }
        },
        "2b93e290ec7d4105817c3b93bc51887d": {
          "model_module": "@jupyter-widgets/controls",
          "model_name": "FloatProgressModel",
          "model_module_version": "1.5.0",
          "state": {
            "_dom_classes": [],
            "_model_module": "@jupyter-widgets/controls",
            "_model_module_version": "1.5.0",
            "_model_name": "FloatProgressModel",
            "_view_count": null,
            "_view_module": "@jupyter-widgets/controls",
            "_view_module_version": "1.5.0",
            "_view_name": "ProgressView",
            "bar_style": "success",
            "description": "",
            "description_tooltip": null,
            "layout": "IPY_MODEL_79fa67a3ea3f4d9e9a02c7cf5d1baa94",
            "max": 231508,
            "min": 0,
            "orientation": "horizontal",
            "style": "IPY_MODEL_16ee6a655ff04e309bb443a58770b92f",
            "value": 231508
          }
        },
        "221fbe57c9d6488f8bd3b198607fc60b": {
          "model_module": "@jupyter-widgets/controls",
          "model_name": "HTMLModel",
          "model_module_version": "1.5.0",
          "state": {
            "_dom_classes": [],
            "_model_module": "@jupyter-widgets/controls",
            "_model_module_version": "1.5.0",
            "_model_name": "HTMLModel",
            "_view_count": null,
            "_view_module": "@jupyter-widgets/controls",
            "_view_module_version": "1.5.0",
            "_view_name": "HTMLView",
            "description": "",
            "description_tooltip": null,
            "layout": "IPY_MODEL_748b7dcb1c434a7e8956bd9abc9e75f3",
            "placeholder": "​",
            "style": "IPY_MODEL_e7dc94e65ca844c9933c138955ad5b5c",
            "value": " 232k/232k [00:00&lt;00:00, 2.21MB/s]"
          }
        },
        "a5eda110615744d8a713fbd4dac4790b": {
          "model_module": "@jupyter-widgets/base",
          "model_name": "LayoutModel",
          "model_module_version": "1.2.0",
          "state": {
            "_model_module": "@jupyter-widgets/base",
            "_model_module_version": "1.2.0",
            "_model_name": "LayoutModel",
            "_view_count": null,
            "_view_module": "@jupyter-widgets/base",
            "_view_module_version": "1.2.0",
            "_view_name": "LayoutView",
            "align_content": null,
            "align_items": null,
            "align_self": null,
            "border": null,
            "bottom": null,
            "display": null,
            "flex": null,
            "flex_flow": null,
            "grid_area": null,
            "grid_auto_columns": null,
            "grid_auto_flow": null,
            "grid_auto_rows": null,
            "grid_column": null,
            "grid_gap": null,
            "grid_row": null,
            "grid_template_areas": null,
            "grid_template_columns": null,
            "grid_template_rows": null,
            "height": null,
            "justify_content": null,
            "justify_items": null,
            "left": null,
            "margin": null,
            "max_height": null,
            "max_width": null,
            "min_height": null,
            "min_width": null,
            "object_fit": null,
            "object_position": null,
            "order": null,
            "overflow": null,
            "overflow_x": null,
            "overflow_y": null,
            "padding": null,
            "right": null,
            "top": null,
            "visibility": null,
            "width": null
          }
        },
        "e63477405c724c4791432253c02b434a": {
          "model_module": "@jupyter-widgets/base",
          "model_name": "LayoutModel",
          "model_module_version": "1.2.0",
          "state": {
            "_model_module": "@jupyter-widgets/base",
            "_model_module_version": "1.2.0",
            "_model_name": "LayoutModel",
            "_view_count": null,
            "_view_module": "@jupyter-widgets/base",
            "_view_module_version": "1.2.0",
            "_view_name": "LayoutView",
            "align_content": null,
            "align_items": null,
            "align_self": null,
            "border": null,
            "bottom": null,
            "display": null,
            "flex": null,
            "flex_flow": null,
            "grid_area": null,
            "grid_auto_columns": null,
            "grid_auto_flow": null,
            "grid_auto_rows": null,
            "grid_column": null,
            "grid_gap": null,
            "grid_row": null,
            "grid_template_areas": null,
            "grid_template_columns": null,
            "grid_template_rows": null,
            "height": null,
            "justify_content": null,
            "justify_items": null,
            "left": null,
            "margin": null,
            "max_height": null,
            "max_width": null,
            "min_height": null,
            "min_width": null,
            "object_fit": null,
            "object_position": null,
            "order": null,
            "overflow": null,
            "overflow_x": null,
            "overflow_y": null,
            "padding": null,
            "right": null,
            "top": null,
            "visibility": null,
            "width": null
          }
        },
        "db1c2586d09b44e5a228120d30707b98": {
          "model_module": "@jupyter-widgets/controls",
          "model_name": "DescriptionStyleModel",
          "model_module_version": "1.5.0",
          "state": {
            "_model_module": "@jupyter-widgets/controls",
            "_model_module_version": "1.5.0",
            "_model_name": "DescriptionStyleModel",
            "_view_count": null,
            "_view_module": "@jupyter-widgets/base",
            "_view_module_version": "1.2.0",
            "_view_name": "StyleView",
            "description_width": ""
          }
        },
        "79fa67a3ea3f4d9e9a02c7cf5d1baa94": {
          "model_module": "@jupyter-widgets/base",
          "model_name": "LayoutModel",
          "model_module_version": "1.2.0",
          "state": {
            "_model_module": "@jupyter-widgets/base",
            "_model_module_version": "1.2.0",
            "_model_name": "LayoutModel",
            "_view_count": null,
            "_view_module": "@jupyter-widgets/base",
            "_view_module_version": "1.2.0",
            "_view_name": "LayoutView",
            "align_content": null,
            "align_items": null,
            "align_self": null,
            "border": null,
            "bottom": null,
            "display": null,
            "flex": null,
            "flex_flow": null,
            "grid_area": null,
            "grid_auto_columns": null,
            "grid_auto_flow": null,
            "grid_auto_rows": null,
            "grid_column": null,
            "grid_gap": null,
            "grid_row": null,
            "grid_template_areas": null,
            "grid_template_columns": null,
            "grid_template_rows": null,
            "height": null,
            "justify_content": null,
            "justify_items": null,
            "left": null,
            "margin": null,
            "max_height": null,
            "max_width": null,
            "min_height": null,
            "min_width": null,
            "object_fit": null,
            "object_position": null,
            "order": null,
            "overflow": null,
            "overflow_x": null,
            "overflow_y": null,
            "padding": null,
            "right": null,
            "top": null,
            "visibility": null,
            "width": null
          }
        },
        "16ee6a655ff04e309bb443a58770b92f": {
          "model_module": "@jupyter-widgets/controls",
          "model_name": "ProgressStyleModel",
          "model_module_version": "1.5.0",
          "state": {
            "_model_module": "@jupyter-widgets/controls",
            "_model_module_version": "1.5.0",
            "_model_name": "ProgressStyleModel",
            "_view_count": null,
            "_view_module": "@jupyter-widgets/base",
            "_view_module_version": "1.2.0",
            "_view_name": "StyleView",
            "bar_color": null,
            "description_width": ""
          }
        },
        "748b7dcb1c434a7e8956bd9abc9e75f3": {
          "model_module": "@jupyter-widgets/base",
          "model_name": "LayoutModel",
          "model_module_version": "1.2.0",
          "state": {
            "_model_module": "@jupyter-widgets/base",
            "_model_module_version": "1.2.0",
            "_model_name": "LayoutModel",
            "_view_count": null,
            "_view_module": "@jupyter-widgets/base",
            "_view_module_version": "1.2.0",
            "_view_name": "LayoutView",
            "align_content": null,
            "align_items": null,
            "align_self": null,
            "border": null,
            "bottom": null,
            "display": null,
            "flex": null,
            "flex_flow": null,
            "grid_area": null,
            "grid_auto_columns": null,
            "grid_auto_flow": null,
            "grid_auto_rows": null,
            "grid_column": null,
            "grid_gap": null,
            "grid_row": null,
            "grid_template_areas": null,
            "grid_template_columns": null,
            "grid_template_rows": null,
            "height": null,
            "justify_content": null,
            "justify_items": null,
            "left": null,
            "margin": null,
            "max_height": null,
            "max_width": null,
            "min_height": null,
            "min_width": null,
            "object_fit": null,
            "object_position": null,
            "order": null,
            "overflow": null,
            "overflow_x": null,
            "overflow_y": null,
            "padding": null,
            "right": null,
            "top": null,
            "visibility": null,
            "width": null
          }
        },
        "e7dc94e65ca844c9933c138955ad5b5c": {
          "model_module": "@jupyter-widgets/controls",
          "model_name": "DescriptionStyleModel",
          "model_module_version": "1.5.0",
          "state": {
            "_model_module": "@jupyter-widgets/controls",
            "_model_module_version": "1.5.0",
            "_model_name": "DescriptionStyleModel",
            "_view_count": null,
            "_view_module": "@jupyter-widgets/base",
            "_view_module_version": "1.2.0",
            "_view_name": "StyleView",
            "description_width": ""
          }
        },
        "1df4230fd6944ea1b0b55414d868651d": {
          "model_module": "@jupyter-widgets/controls",
          "model_name": "HBoxModel",
          "model_module_version": "1.5.0",
          "state": {
            "_dom_classes": [],
            "_model_module": "@jupyter-widgets/controls",
            "_model_module_version": "1.5.0",
            "_model_name": "HBoxModel",
            "_view_count": null,
            "_view_module": "@jupyter-widgets/controls",
            "_view_module_version": "1.5.0",
            "_view_name": "HBoxView",
            "box_style": "",
            "children": [
              "IPY_MODEL_c65d8d38f83c4e93a1faeab2f2a1272d",
              "IPY_MODEL_9d88608d23734c14b62bf64e6c4b2f63",
              "IPY_MODEL_294b0e8d3cfa4f87a498c55a53f01b5c"
            ],
            "layout": "IPY_MODEL_93b72f9e021546008f3ccc25b8709510"
          }
        },
        "c65d8d38f83c4e93a1faeab2f2a1272d": {
          "model_module": "@jupyter-widgets/controls",
          "model_name": "HTMLModel",
          "model_module_version": "1.5.0",
          "state": {
            "_dom_classes": [],
            "_model_module": "@jupyter-widgets/controls",
            "_model_module_version": "1.5.0",
            "_model_name": "HTMLModel",
            "_view_count": null,
            "_view_module": "@jupyter-widgets/controls",
            "_view_module_version": "1.5.0",
            "_view_name": "HTMLView",
            "description": "",
            "description_tooltip": null,
            "layout": "IPY_MODEL_57c466b4b785411e919aa3fbcc8296b1",
            "placeholder": "​",
            "style": "IPY_MODEL_8f2c7c4d742e4de4913dd7f907349325",
            "value": "tokenizer.json: 100%"
          }
        },
        "9d88608d23734c14b62bf64e6c4b2f63": {
          "model_module": "@jupyter-widgets/controls",
          "model_name": "FloatProgressModel",
          "model_module_version": "1.5.0",
          "state": {
            "_dom_classes": [],
            "_model_module": "@jupyter-widgets/controls",
            "_model_module_version": "1.5.0",
            "_model_name": "FloatProgressModel",
            "_view_count": null,
            "_view_module": "@jupyter-widgets/controls",
            "_view_module_version": "1.5.0",
            "_view_name": "ProgressView",
            "bar_style": "success",
            "description": "",
            "description_tooltip": null,
            "layout": "IPY_MODEL_a69d86a7f88248c7952a4b75f1f31ade",
            "max": 466062,
            "min": 0,
            "orientation": "horizontal",
            "style": "IPY_MODEL_c0281b9a676a41488cf49ddd9c059c79",
            "value": 466062
          }
        },
        "294b0e8d3cfa4f87a498c55a53f01b5c": {
          "model_module": "@jupyter-widgets/controls",
          "model_name": "HTMLModel",
          "model_module_version": "1.5.0",
          "state": {
            "_dom_classes": [],
            "_model_module": "@jupyter-widgets/controls",
            "_model_module_version": "1.5.0",
            "_model_name": "HTMLModel",
            "_view_count": null,
            "_view_module": "@jupyter-widgets/controls",
            "_view_module_version": "1.5.0",
            "_view_name": "HTMLView",
            "description": "",
            "description_tooltip": null,
            "layout": "IPY_MODEL_f44d733b6499469a9a8c7e2d967d657a",
            "placeholder": "​",
            "style": "IPY_MODEL_7fde5db115814a1388357142839eec43",
            "value": " 466k/466k [00:00&lt;00:00, 11.6MB/s]"
          }
        },
        "93b72f9e021546008f3ccc25b8709510": {
          "model_module": "@jupyter-widgets/base",
          "model_name": "LayoutModel",
          "model_module_version": "1.2.0",
          "state": {
            "_model_module": "@jupyter-widgets/base",
            "_model_module_version": "1.2.0",
            "_model_name": "LayoutModel",
            "_view_count": null,
            "_view_module": "@jupyter-widgets/base",
            "_view_module_version": "1.2.0",
            "_view_name": "LayoutView",
            "align_content": null,
            "align_items": null,
            "align_self": null,
            "border": null,
            "bottom": null,
            "display": null,
            "flex": null,
            "flex_flow": null,
            "grid_area": null,
            "grid_auto_columns": null,
            "grid_auto_flow": null,
            "grid_auto_rows": null,
            "grid_column": null,
            "grid_gap": null,
            "grid_row": null,
            "grid_template_areas": null,
            "grid_template_columns": null,
            "grid_template_rows": null,
            "height": null,
            "justify_content": null,
            "justify_items": null,
            "left": null,
            "margin": null,
            "max_height": null,
            "max_width": null,
            "min_height": null,
            "min_width": null,
            "object_fit": null,
            "object_position": null,
            "order": null,
            "overflow": null,
            "overflow_x": null,
            "overflow_y": null,
            "padding": null,
            "right": null,
            "top": null,
            "visibility": null,
            "width": null
          }
        },
        "57c466b4b785411e919aa3fbcc8296b1": {
          "model_module": "@jupyter-widgets/base",
          "model_name": "LayoutModel",
          "model_module_version": "1.2.0",
          "state": {
            "_model_module": "@jupyter-widgets/base",
            "_model_module_version": "1.2.0",
            "_model_name": "LayoutModel",
            "_view_count": null,
            "_view_module": "@jupyter-widgets/base",
            "_view_module_version": "1.2.0",
            "_view_name": "LayoutView",
            "align_content": null,
            "align_items": null,
            "align_self": null,
            "border": null,
            "bottom": null,
            "display": null,
            "flex": null,
            "flex_flow": null,
            "grid_area": null,
            "grid_auto_columns": null,
            "grid_auto_flow": null,
            "grid_auto_rows": null,
            "grid_column": null,
            "grid_gap": null,
            "grid_row": null,
            "grid_template_areas": null,
            "grid_template_columns": null,
            "grid_template_rows": null,
            "height": null,
            "justify_content": null,
            "justify_items": null,
            "left": null,
            "margin": null,
            "max_height": null,
            "max_width": null,
            "min_height": null,
            "min_width": null,
            "object_fit": null,
            "object_position": null,
            "order": null,
            "overflow": null,
            "overflow_x": null,
            "overflow_y": null,
            "padding": null,
            "right": null,
            "top": null,
            "visibility": null,
            "width": null
          }
        },
        "8f2c7c4d742e4de4913dd7f907349325": {
          "model_module": "@jupyter-widgets/controls",
          "model_name": "DescriptionStyleModel",
          "model_module_version": "1.5.0",
          "state": {
            "_model_module": "@jupyter-widgets/controls",
            "_model_module_version": "1.5.0",
            "_model_name": "DescriptionStyleModel",
            "_view_count": null,
            "_view_module": "@jupyter-widgets/base",
            "_view_module_version": "1.2.0",
            "_view_name": "StyleView",
            "description_width": ""
          }
        },
        "a69d86a7f88248c7952a4b75f1f31ade": {
          "model_module": "@jupyter-widgets/base",
          "model_name": "LayoutModel",
          "model_module_version": "1.2.0",
          "state": {
            "_model_module": "@jupyter-widgets/base",
            "_model_module_version": "1.2.0",
            "_model_name": "LayoutModel",
            "_view_count": null,
            "_view_module": "@jupyter-widgets/base",
            "_view_module_version": "1.2.0",
            "_view_name": "LayoutView",
            "align_content": null,
            "align_items": null,
            "align_self": null,
            "border": null,
            "bottom": null,
            "display": null,
            "flex": null,
            "flex_flow": null,
            "grid_area": null,
            "grid_auto_columns": null,
            "grid_auto_flow": null,
            "grid_auto_rows": null,
            "grid_column": null,
            "grid_gap": null,
            "grid_row": null,
            "grid_template_areas": null,
            "grid_template_columns": null,
            "grid_template_rows": null,
            "height": null,
            "justify_content": null,
            "justify_items": null,
            "left": null,
            "margin": null,
            "max_height": null,
            "max_width": null,
            "min_height": null,
            "min_width": null,
            "object_fit": null,
            "object_position": null,
            "order": null,
            "overflow": null,
            "overflow_x": null,
            "overflow_y": null,
            "padding": null,
            "right": null,
            "top": null,
            "visibility": null,
            "width": null
          }
        },
        "c0281b9a676a41488cf49ddd9c059c79": {
          "model_module": "@jupyter-widgets/controls",
          "model_name": "ProgressStyleModel",
          "model_module_version": "1.5.0",
          "state": {
            "_model_module": "@jupyter-widgets/controls",
            "_model_module_version": "1.5.0",
            "_model_name": "ProgressStyleModel",
            "_view_count": null,
            "_view_module": "@jupyter-widgets/base",
            "_view_module_version": "1.2.0",
            "_view_name": "StyleView",
            "bar_color": null,
            "description_width": ""
          }
        },
        "f44d733b6499469a9a8c7e2d967d657a": {
          "model_module": "@jupyter-widgets/base",
          "model_name": "LayoutModel",
          "model_module_version": "1.2.0",
          "state": {
            "_model_module": "@jupyter-widgets/base",
            "_model_module_version": "1.2.0",
            "_model_name": "LayoutModel",
            "_view_count": null,
            "_view_module": "@jupyter-widgets/base",
            "_view_module_version": "1.2.0",
            "_view_name": "LayoutView",
            "align_content": null,
            "align_items": null,
            "align_self": null,
            "border": null,
            "bottom": null,
            "display": null,
            "flex": null,
            "flex_flow": null,
            "grid_area": null,
            "grid_auto_columns": null,
            "grid_auto_flow": null,
            "grid_auto_rows": null,
            "grid_column": null,
            "grid_gap": null,
            "grid_row": null,
            "grid_template_areas": null,
            "grid_template_columns": null,
            "grid_template_rows": null,
            "height": null,
            "justify_content": null,
            "justify_items": null,
            "left": null,
            "margin": null,
            "max_height": null,
            "max_width": null,
            "min_height": null,
            "min_width": null,
            "object_fit": null,
            "object_position": null,
            "order": null,
            "overflow": null,
            "overflow_x": null,
            "overflow_y": null,
            "padding": null,
            "right": null,
            "top": null,
            "visibility": null,
            "width": null
          }
        },
        "7fde5db115814a1388357142839eec43": {
          "model_module": "@jupyter-widgets/controls",
          "model_name": "DescriptionStyleModel",
          "model_module_version": "1.5.0",
          "state": {
            "_model_module": "@jupyter-widgets/controls",
            "_model_module_version": "1.5.0",
            "_model_name": "DescriptionStyleModel",
            "_view_count": null,
            "_view_module": "@jupyter-widgets/base",
            "_view_module_version": "1.2.0",
            "_view_name": "StyleView",
            "description_width": ""
          }
        }
      }
    }
  },
  "nbformat": 4,
  "nbformat_minor": 0
}